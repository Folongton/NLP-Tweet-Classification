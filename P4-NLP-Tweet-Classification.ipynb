{
 "cells": [
  {
   "cell_type": "code",
   "execution_count": 2,
   "metadata": {},
   "outputs": [],
   "source": [
    "import pandas as pd\n",
    "import numpy as np\n",
    "pd.set_option('display.max_colwidth', 500)\n",
    "\n",
    "import matplotlib.pyplot as plt\n",
    "import seaborn as sns\n",
    "%matplotlib inline"
   ]
  },
  {
   "cell_type": "code",
   "execution_count": 3,
   "metadata": {},
   "outputs": [],
   "source": [
    "df = pd.read_csv(r'data/tweet_data.csv')"
   ]
  },
  {
   "cell_type": "code",
   "execution_count": 4,
   "metadata": {},
   "outputs": [
    {
     "name": "stdout",
     "output_type": "stream",
     "text": [
      "(785916, 18)\n",
      "Index(['tweetID', 'crDate', 'edInput', 'editor', 'engages', 'isApproved',\n",
      "       'isEdNeed', 'isRT', 'likes', 'photoUrl', 'retweets', 'rtUsID', 'text',\n",
      "       'topicName', 'usFlwrs', 'usID', 'usName', 'videoUrl'],\n",
      "      dtype='object')\n"
     ]
    },
    {
     "data": {
      "text/html": [
       "<div>\n",
       "<style scoped>\n",
       "    .dataframe tbody tr th:only-of-type {\n",
       "        vertical-align: middle;\n",
       "    }\n",
       "\n",
       "    .dataframe tbody tr th {\n",
       "        vertical-align: top;\n",
       "    }\n",
       "\n",
       "    .dataframe thead th {\n",
       "        text-align: right;\n",
       "    }\n",
       "</style>\n",
       "<table border=\"1\" class=\"dataframe\">\n",
       "  <thead>\n",
       "    <tr style=\"text-align: right;\">\n",
       "      <th></th>\n",
       "      <th>tweetID</th>\n",
       "      <th>crDate</th>\n",
       "      <th>edInput</th>\n",
       "      <th>editor</th>\n",
       "      <th>engages</th>\n",
       "      <th>isApproved</th>\n",
       "      <th>isEdNeed</th>\n",
       "      <th>isRT</th>\n",
       "      <th>likes</th>\n",
       "      <th>photoUrl</th>\n",
       "      <th>retweets</th>\n",
       "      <th>rtUsID</th>\n",
       "      <th>text</th>\n",
       "      <th>topicName</th>\n",
       "      <th>usFlwrs</th>\n",
       "      <th>usID</th>\n",
       "      <th>usName</th>\n",
       "      <th>videoUrl</th>\n",
       "    </tr>\n",
       "  </thead>\n",
       "  <tbody>\n",
       "    <tr>\n",
       "      <th>0</th>\n",
       "      <td>1070867471245164544</td>\n",
       "      <td>2018-12-07 02:27:55</td>\n",
       "      <td>-1</td>\n",
       "      <td>-1</td>\n",
       "      <td>98</td>\n",
       "      <td>False</td>\n",
       "      <td>True</td>\n",
       "      <td>False</td>\n",
       "      <td>64</td>\n",
       "      <td>https://pbs.twimg.com/media/Dtx8SiIWkAImVsb.jpg</td>\n",
       "      <td>34</td>\n",
       "      <td>-1</td>\n",
       "      <td>The immediate impulse for an alliance of the EU's northern states is Brexit https://t.co/nlhUD36hay https://t.co/shwMWpjjuK</td>\n",
       "      <td>Business</td>\n",
       "      <td>23464532</td>\n",
       "      <td>5988062</td>\n",
       "      <td>The Economist</td>\n",
       "      <td>NaN</td>\n",
       "    </tr>\n",
       "    <tr>\n",
       "      <th>1</th>\n",
       "      <td>1070868017888837633</td>\n",
       "      <td>2018-12-07 02:30:05</td>\n",
       "      <td>-1</td>\n",
       "      <td>-1</td>\n",
       "      <td>13</td>\n",
       "      <td>False</td>\n",
       "      <td>True</td>\n",
       "      <td>False</td>\n",
       "      <td>10</td>\n",
       "      <td>https://pbs.twimg.com/media/Dtx8yTyW4AEciqP.jpg</td>\n",
       "      <td>3</td>\n",
       "      <td>-1</td>\n",
       "      <td>America's economy is flashing some warning signs, but -- for now -- the labor market appears to be going strong https://t.co/xvCPgtqMzy https://t.co/0sQdzAsME3</td>\n",
       "      <td>Business</td>\n",
       "      <td>1732809</td>\n",
       "      <td>16184358</td>\n",
       "      <td>CNN Business</td>\n",
       "      <td>NaN</td>\n",
       "    </tr>\n",
       "  </tbody>\n",
       "</table>\n",
       "</div>"
      ],
      "text/plain": [
       "               tweetID               crDate  edInput  editor  engages  \\\n",
       "0  1070867471245164544  2018-12-07 02:27:55       -1      -1       98   \n",
       "1  1070868017888837633  2018-12-07 02:30:05       -1      -1       13   \n",
       "\n",
       "   isApproved  isEdNeed   isRT  likes  \\\n",
       "0       False      True  False     64   \n",
       "1       False      True  False     10   \n",
       "\n",
       "                                          photoUrl  retweets  rtUsID  \\\n",
       "0  https://pbs.twimg.com/media/Dtx8SiIWkAImVsb.jpg        34      -1   \n",
       "1  https://pbs.twimg.com/media/Dtx8yTyW4AEciqP.jpg         3      -1   \n",
       "\n",
       "                                                                                                                                                              text  \\\n",
       "0                                      The immediate impulse for an alliance of the EU's northern states is Brexit https://t.co/nlhUD36hay https://t.co/shwMWpjjuK   \n",
       "1  America's economy is flashing some warning signs, but -- for now -- the labor market appears to be going strong https://t.co/xvCPgtqMzy https://t.co/0sQdzAsME3   \n",
       "\n",
       "  topicName   usFlwrs      usID         usName videoUrl  \n",
       "0  Business  23464532   5988062  The Economist      NaN  \n",
       "1  Business   1732809  16184358   CNN Business      NaN  "
      ]
     },
     "execution_count": 4,
     "metadata": {},
     "output_type": "execute_result"
    }
   ],
   "source": [
    "print(df.shape)\n",
    "print(df.columns)\n",
    "df.head(2)"
   ]
  },
  {
   "attachments": {},
   "cell_type": "markdown",
   "metadata": {},
   "source": [
    "* After observation of the data, we can see :\n",
    "1. Columns which are definitelly not be used: crDate, engages, likes, photoUrl, retweets, usFlwrs, rtUsID, usID, videoUrl - will be dropped.\n",
    "2. Columns which will be definitelly used: tweetID(for indexing purposes), edInput(Label), text, topicName\n",
    "3. Columns which need more analysis: editor, isApproved, isEdNeed, isRT"
   ]
  },
  {
   "cell_type": "code",
   "execution_count": 5,
   "metadata": {},
   "outputs": [],
   "source": [
    "df = df[['tweetID', 'edInput', 'editor', 'isApproved',\n",
    "       'isEdNeed', 'isRT', 'text',\n",
    "       'topicName', 'usName', ]]"
   ]
  },
  {
   "cell_type": "code",
   "execution_count": 6,
   "metadata": {},
   "outputs": [
    {
     "data": {
      "text/html": [
       "<div>\n",
       "<style scoped>\n",
       "    .dataframe tbody tr th:only-of-type {\n",
       "        vertical-align: middle;\n",
       "    }\n",
       "\n",
       "    .dataframe tbody tr th {\n",
       "        vertical-align: top;\n",
       "    }\n",
       "\n",
       "    .dataframe thead th {\n",
       "        text-align: right;\n",
       "    }\n",
       "</style>\n",
       "<table border=\"1\" class=\"dataframe\">\n",
       "  <thead>\n",
       "    <tr style=\"text-align: right;\">\n",
       "      <th></th>\n",
       "      <th>tweetID</th>\n",
       "      <th>edInput</th>\n",
       "      <th>editor</th>\n",
       "      <th>isApproved</th>\n",
       "      <th>isEdNeed</th>\n",
       "      <th>isRT</th>\n",
       "      <th>text</th>\n",
       "      <th>topicName</th>\n",
       "      <th>usName</th>\n",
       "    </tr>\n",
       "  </thead>\n",
       "  <tbody>\n",
       "    <tr>\n",
       "      <th>0</th>\n",
       "      <td>1070867471245164544</td>\n",
       "      <td>-1</td>\n",
       "      <td>-1</td>\n",
       "      <td>False</td>\n",
       "      <td>True</td>\n",
       "      <td>False</td>\n",
       "      <td>The immediate impulse for an alliance of the EU's northern states is Brexit https://t.co/nlhUD36hay https://t.co/shwMWpjjuK</td>\n",
       "      <td>Business</td>\n",
       "      <td>The Economist</td>\n",
       "    </tr>\n",
       "    <tr>\n",
       "      <th>1</th>\n",
       "      <td>1070868017888837633</td>\n",
       "      <td>-1</td>\n",
       "      <td>-1</td>\n",
       "      <td>False</td>\n",
       "      <td>True</td>\n",
       "      <td>False</td>\n",
       "      <td>America's economy is flashing some warning signs, but -- for now -- the labor market appears to be going strong https://t.co/xvCPgtqMzy https://t.co/0sQdzAsME3</td>\n",
       "      <td>Business</td>\n",
       "      <td>CNN Business</td>\n",
       "    </tr>\n",
       "    <tr>\n",
       "      <th>2</th>\n",
       "      <td>1070868012864028673</td>\n",
       "      <td>-1</td>\n",
       "      <td>-1</td>\n",
       "      <td>False</td>\n",
       "      <td>True</td>\n",
       "      <td>False</td>\n",
       "      <td>Lyft files for what is expected to be one of the hottest IPOs in 2019 https://t.co/qEjyniazlD</td>\n",
       "      <td>Business</td>\n",
       "      <td>FORTUNE</td>\n",
       "    </tr>\n",
       "    <tr>\n",
       "      <th>3</th>\n",
       "      <td>1070867995239555075</td>\n",
       "      <td>-1</td>\n",
       "      <td>-1</td>\n",
       "      <td>False</td>\n",
       "      <td>True</td>\n",
       "      <td>False</td>\n",
       "      <td>Exporters still waiting to get Rs 6,000 crore worth of input tax credit refunds\\n\\nMany being denied tax refunds by state governments, such as Andhra Pradesh, Uttar Pradesh, Bihar and Chhattisgarh, who say they are cash starved\\n\\n@Subhayan_ism @GST_Council\\n\\nhttps://t.co/QRBg8b98Rr</td>\n",
       "      <td>Business</td>\n",
       "      <td>Business Standard</td>\n",
       "    </tr>\n",
       "    <tr>\n",
       "      <th>4</th>\n",
       "      <td>1070867995205885952</td>\n",
       "      <td>-1</td>\n",
       "      <td>-1</td>\n",
       "      <td>False</td>\n",
       "      <td>True</td>\n",
       "      <td>False</td>\n",
       "      <td>Ride-hailing firm Lyft races to leave Uber behind in IPO chase https://t.co/0qCsdx2LYS https://t.co/gHZLUntYkL</td>\n",
       "      <td>Business</td>\n",
       "      <td>Reuters Business</td>\n",
       "    </tr>\n",
       "    <tr>\n",
       "      <th>...</th>\n",
       "      <td>...</td>\n",
       "      <td>...</td>\n",
       "      <td>...</td>\n",
       "      <td>...</td>\n",
       "      <td>...</td>\n",
       "      <td>...</td>\n",
       "      <td>...</td>\n",
       "      <td>...</td>\n",
       "      <td>...</td>\n",
       "    </tr>\n",
       "    <tr>\n",
       "      <th>785911</th>\n",
       "      <td>1147325851614117888</td>\n",
       "      <td>-1</td>\n",
       "      <td>-1</td>\n",
       "      <td>False</td>\n",
       "      <td>True</td>\n",
       "      <td>True</td>\n",
       "      <td>Relations are DIFFERENT\\nnot DIFFICULT.</td>\n",
       "      <td>Motivational</td>\n",
       "      <td>Wit &amp; Wisdom 💯</td>\n",
       "    </tr>\n",
       "    <tr>\n",
       "      <th>785912</th>\n",
       "      <td>1153184058714624001</td>\n",
       "      <td>-1</td>\n",
       "      <td>-1</td>\n",
       "      <td>False</td>\n",
       "      <td>True</td>\n",
       "      <td>True</td>\n",
       "      <td>\"to live a creative life, we must lose our fear of being wrong\"......... https://t.co/LF0e0xV5Q7</td>\n",
       "      <td>Interesting</td>\n",
       "      <td>DeepFeling™</td>\n",
       "    </tr>\n",
       "    <tr>\n",
       "      <th>785913</th>\n",
       "      <td>1153048802116292608</td>\n",
       "      <td>-1</td>\n",
       "      <td>-1</td>\n",
       "      <td>False</td>\n",
       "      <td>True</td>\n",
       "      <td>True</td>\n",
       "      <td>Who's your comic crush? https://t.co/H29dhXw3kf</td>\n",
       "      <td>Memes</td>\n",
       "      <td>Twitter Movies</td>\n",
       "    </tr>\n",
       "    <tr>\n",
       "      <th>785914</th>\n",
       "      <td>1154063052997836801</td>\n",
       "      <td>-1</td>\n",
       "      <td>-1</td>\n",
       "      <td>True</td>\n",
       "      <td>True</td>\n",
       "      <td>False</td>\n",
       "      <td>After a flight of 195 hours, 18 minutes, 35 seconds - the #Apollo11 crew splashed down in the North Pacific Ocean, 900 miles southwest of Hawaii! Here’s a photo of their recovery as we celebrate the #Apollo50th anniversary: https://t.co/Y4zhGTQlPj https://t.co/fBpvcECsjp</td>\n",
       "      <td>Random</td>\n",
       "      <td>NASA</td>\n",
       "    </tr>\n",
       "    <tr>\n",
       "      <th>785915</th>\n",
       "      <td>1073723027718688768</td>\n",
       "      <td>-1</td>\n",
       "      <td>-1</td>\n",
       "      <td>False</td>\n",
       "      <td>True</td>\n",
       "      <td>True</td>\n",
       "      <td>Scarface's Action Figure Tony Montana cutting open a pack of Flour on a kitchen table\\n(by artist VSE OK) https://t.co/vOqvOh7EFn</td>\n",
       "      <td>Photography</td>\n",
       "      <td>41 Strange</td>\n",
       "    </tr>\n",
       "  </tbody>\n",
       "</table>\n",
       "<p>785916 rows × 9 columns</p>\n",
       "</div>"
      ],
      "text/plain": [
       "                    tweetID  edInput  editor  isApproved  isEdNeed   isRT  \\\n",
       "0       1070867471245164544       -1      -1       False      True  False   \n",
       "1       1070868017888837633       -1      -1       False      True  False   \n",
       "2       1070868012864028673       -1      -1       False      True  False   \n",
       "3       1070867995239555075       -1      -1       False      True  False   \n",
       "4       1070867995205885952       -1      -1       False      True  False   \n",
       "...                     ...      ...     ...         ...       ...    ...   \n",
       "785911  1147325851614117888       -1      -1       False      True   True   \n",
       "785912  1153184058714624001       -1      -1       False      True   True   \n",
       "785913  1153048802116292608       -1      -1       False      True   True   \n",
       "785914  1154063052997836801       -1      -1        True      True  False   \n",
       "785915  1073723027718688768       -1      -1       False      True   True   \n",
       "\n",
       "                                                                                                                                                                                                                                                                                                text  \\\n",
       "0                                                                                                                                                                        The immediate impulse for an alliance of the EU's northern states is Brexit https://t.co/nlhUD36hay https://t.co/shwMWpjjuK   \n",
       "1                                                                                                                                    America's economy is flashing some warning signs, but -- for now -- the labor market appears to be going strong https://t.co/xvCPgtqMzy https://t.co/0sQdzAsME3   \n",
       "2                                                                                                                                                                                                      Lyft files for what is expected to be one of the hottest IPOs in 2019 https://t.co/qEjyniazlD   \n",
       "3       Exporters still waiting to get Rs 6,000 crore worth of input tax credit refunds\\n\\nMany being denied tax refunds by state governments, such as Andhra Pradesh, Uttar Pradesh, Bihar and Chhattisgarh, who say they are cash starved\\n\\n@Subhayan_ism @GST_Council\\n\\nhttps://t.co/QRBg8b98Rr   \n",
       "4                                                                                                                                                                                     Ride-hailing firm Lyft races to leave Uber behind in IPO chase https://t.co/0qCsdx2LYS https://t.co/gHZLUntYkL   \n",
       "...                                                                                                                                                                                                                                                                                              ...   \n",
       "785911                                                                                                                                                                                                                                                       Relations are DIFFERENT\\nnot DIFFICULT.   \n",
       "785912                                                                                                                                                                                              \"to live a creative life, we must lose our fear of being wrong\"......... https://t.co/LF0e0xV5Q7   \n",
       "785913                                                                                                                                                                                                                                               Who's your comic crush? https://t.co/H29dhXw3kf   \n",
       "785914               After a flight of 195 hours, 18 minutes, 35 seconds - the #Apollo11 crew splashed down in the North Pacific Ocean, 900 miles southwest of Hawaii! Here’s a photo of their recovery as we celebrate the #Apollo50th anniversary: https://t.co/Y4zhGTQlPj https://t.co/fBpvcECsjp   \n",
       "785915                                                                                                                                                             Scarface's Action Figure Tony Montana cutting open a pack of Flour on a kitchen table\\n(by artist VSE OK) https://t.co/vOqvOh7EFn   \n",
       "\n",
       "           topicName             usName  \n",
       "0           Business      The Economist  \n",
       "1           Business       CNN Business  \n",
       "2           Business            FORTUNE  \n",
       "3           Business  Business Standard  \n",
       "4           Business   Reuters Business  \n",
       "...              ...                ...  \n",
       "785911  Motivational     Wit & Wisdom 💯  \n",
       "785912   Interesting        DeepFeling™  \n",
       "785913         Memes     Twitter Movies  \n",
       "785914        Random               NASA  \n",
       "785915   Photography         41 Strange  \n",
       "\n",
       "[785916 rows x 9 columns]"
      ]
     },
     "execution_count": 6,
     "metadata": {},
     "output_type": "execute_result"
    }
   ],
   "source": [
    "df"
   ]
  },
  {
   "cell_type": "code",
   "execution_count": 7,
   "metadata": {},
   "outputs": [
    {
     "name": "stdout",
     "output_type": "stream",
     "text": [
      "<class 'pandas.core.frame.DataFrame'>\n",
      "RangeIndex: 785916 entries, 0 to 785915\n",
      "Data columns (total 9 columns):\n",
      " #   Column      Non-Null Count   Dtype \n",
      "---  ------      --------------   ----- \n",
      " 0   tweetID     785916 non-null  int64 \n",
      " 1   edInput     785916 non-null  int64 \n",
      " 2   editor      785916 non-null  int64 \n",
      " 3   isApproved  785916 non-null  bool  \n",
      " 4   isEdNeed    785916 non-null  bool  \n",
      " 5   isRT        785916 non-null  bool  \n",
      " 6   text        785916 non-null  object\n",
      " 7   topicName   785916 non-null  object\n",
      " 8   usName      785916 non-null  object\n",
      "dtypes: bool(3), int64(3), object(3)\n",
      "memory usage: 38.2+ MB\n"
     ]
    }
   ],
   "source": [
    "df.info()"
   ]
  },
  {
   "cell_type": "code",
   "execution_count": 8,
   "metadata": {},
   "outputs": [
    {
     "data": {
      "text/plain": [
       "-1    422665\n",
       " 1    215577\n",
       " 2    106741\n",
       " 4     32733\n",
       " 3      8200\n",
       "Name: edInput, dtype: int64"
      ]
     },
     "execution_count": 8,
     "metadata": {},
     "output_type": "execute_result"
    }
   ],
   "source": [
    "df['edInput'].value_counts()"
   ]
  },
  {
   "cell_type": "code",
   "execution_count": 9,
   "metadata": {},
   "outputs": [
    {
     "data": {
      "text/plain": [
       "-1       422665\n",
       " 5004     68536\n",
       " 5003     68186\n",
       " 5002     59317\n",
       " 5001     52629\n",
       " 5006     40658\n",
       " 5007     27722\n",
       " 5005     24934\n",
       " 5008     21167\n",
       " 5101        44\n",
       " 1001        36\n",
       " 2001        22\n",
       "Name: editor, dtype: int64"
      ]
     },
     "execution_count": 9,
     "metadata": {},
     "output_type": "execute_result"
    }
   ],
   "source": [
    "df['editor'].value_counts()"
   ]
  },
  {
   "cell_type": "code",
   "execution_count": 10,
   "metadata": {},
   "outputs": [
    {
     "data": {
      "text/plain": [
       "True    785916\n",
       "Name: isEdNeed, dtype: int64"
      ]
     },
     "execution_count": 10,
     "metadata": {},
     "output_type": "execute_result"
    }
   ],
   "source": [
    "df['isEdNeed'].value_counts()"
   ]
  },
  {
   "attachments": {},
   "cell_type": "markdown",
   "metadata": {},
   "source": [
    "* Dropping 'isEdNeed' as it is the same values for all the rows. Dropping 'editor' as this seems to be an editor IDs."
   ]
  },
  {
   "cell_type": "code",
   "execution_count": 11,
   "metadata": {},
   "outputs": [],
   "source": [
    "df = df.drop(columns=['isEdNeed','editor'])"
   ]
  },
  {
   "attachments": {},
   "cell_type": "markdown",
   "metadata": {},
   "source": [
    "* we can drop rows with 'edinput' other than -1,1,2 as we don't know what they mean and more client communication needed to understand them."
   ]
  },
  {
   "cell_type": "code",
   "execution_count": 12,
   "metadata": {},
   "outputs": [],
   "source": [
    "df = df[df['edInput'].isin([-1,1,2])]\n",
    "df = df.set_index('tweetID', drop=True)"
   ]
  },
  {
   "cell_type": "code",
   "execution_count": 13,
   "metadata": {},
   "outputs": [
    {
     "name": "stdout",
     "output_type": "stream",
     "text": [
      "(744983, 6)\n"
     ]
    },
    {
     "data": {
      "text/html": [
       "<div>\n",
       "<style scoped>\n",
       "    .dataframe tbody tr th:only-of-type {\n",
       "        vertical-align: middle;\n",
       "    }\n",
       "\n",
       "    .dataframe tbody tr th {\n",
       "        vertical-align: top;\n",
       "    }\n",
       "\n",
       "    .dataframe thead th {\n",
       "        text-align: right;\n",
       "    }\n",
       "</style>\n",
       "<table border=\"1\" class=\"dataframe\">\n",
       "  <thead>\n",
       "    <tr style=\"text-align: right;\">\n",
       "      <th></th>\n",
       "      <th>edInput</th>\n",
       "      <th>isApproved</th>\n",
       "      <th>isRT</th>\n",
       "      <th>text</th>\n",
       "      <th>topicName</th>\n",
       "      <th>usName</th>\n",
       "    </tr>\n",
       "    <tr>\n",
       "      <th>tweetID</th>\n",
       "      <th></th>\n",
       "      <th></th>\n",
       "      <th></th>\n",
       "      <th></th>\n",
       "      <th></th>\n",
       "      <th></th>\n",
       "    </tr>\n",
       "  </thead>\n",
       "  <tbody>\n",
       "    <tr>\n",
       "      <th>1070867471245164544</th>\n",
       "      <td>-1</td>\n",
       "      <td>False</td>\n",
       "      <td>False</td>\n",
       "      <td>The immediate impulse for an alliance of the EU's northern states is Brexit https://t.co/nlhUD36hay https://t.co/shwMWpjjuK</td>\n",
       "      <td>Business</td>\n",
       "      <td>The Economist</td>\n",
       "    </tr>\n",
       "    <tr>\n",
       "      <th>1070868017888837633</th>\n",
       "      <td>-1</td>\n",
       "      <td>False</td>\n",
       "      <td>False</td>\n",
       "      <td>America's economy is flashing some warning signs, but -- for now -- the labor market appears to be going strong https://t.co/xvCPgtqMzy https://t.co/0sQdzAsME3</td>\n",
       "      <td>Business</td>\n",
       "      <td>CNN Business</td>\n",
       "    </tr>\n",
       "  </tbody>\n",
       "</table>\n",
       "</div>"
      ],
      "text/plain": [
       "                     edInput  isApproved   isRT  \\\n",
       "tweetID                                           \n",
       "1070867471245164544       -1       False  False   \n",
       "1070868017888837633       -1       False  False   \n",
       "\n",
       "                                                                                                                                                                                text  \\\n",
       "tweetID                                                                                                                                                                                \n",
       "1070867471245164544                                      The immediate impulse for an alliance of the EU's northern states is Brexit https://t.co/nlhUD36hay https://t.co/shwMWpjjuK   \n",
       "1070868017888837633  America's economy is flashing some warning signs, but -- for now -- the labor market appears to be going strong https://t.co/xvCPgtqMzy https://t.co/0sQdzAsME3   \n",
       "\n",
       "                    topicName         usName  \n",
       "tweetID                                       \n",
       "1070867471245164544  Business  The Economist  \n",
       "1070868017888837633  Business   CNN Business  "
      ]
     },
     "execution_count": 13,
     "metadata": {},
     "output_type": "execute_result"
    }
   ],
   "source": [
    "print(df.shape)\n",
    "df.head(2)"
   ]
  },
  {
   "attachments": {},
   "cell_type": "markdown",
   "metadata": {},
   "source": [
    "* Let's run correlation matrix to see if we not missing anything before dropping IsApproved and isRT."
   ]
  },
  {
   "cell_type": "code",
   "execution_count": 14,
   "metadata": {},
   "outputs": [
    {
     "data": {
      "text/html": [
       "<div>\n",
       "<style scoped>\n",
       "    .dataframe tbody tr th:only-of-type {\n",
       "        vertical-align: middle;\n",
       "    }\n",
       "\n",
       "    .dataframe tbody tr th {\n",
       "        vertical-align: top;\n",
       "    }\n",
       "\n",
       "    .dataframe thead th {\n",
       "        text-align: right;\n",
       "    }\n",
       "</style>\n",
       "<table border=\"1\" class=\"dataframe\">\n",
       "  <thead>\n",
       "    <tr style=\"text-align: right;\">\n",
       "      <th></th>\n",
       "      <th>edInput</th>\n",
       "      <th>isApproved</th>\n",
       "      <th>isRT</th>\n",
       "    </tr>\n",
       "  </thead>\n",
       "  <tbody>\n",
       "    <tr>\n",
       "      <th>edInput</th>\n",
       "      <td>1.000000</td>\n",
       "      <td>-1.000000</td>\n",
       "      <td>0.246425</td>\n",
       "    </tr>\n",
       "    <tr>\n",
       "      <th>isApproved</th>\n",
       "      <td>-1.000000</td>\n",
       "      <td>1.000000</td>\n",
       "      <td>-0.246425</td>\n",
       "    </tr>\n",
       "    <tr>\n",
       "      <th>isRT</th>\n",
       "      <td>0.246425</td>\n",
       "      <td>-0.246425</td>\n",
       "      <td>1.000000</td>\n",
       "    </tr>\n",
       "  </tbody>\n",
       "</table>\n",
       "</div>"
      ],
      "text/plain": [
       "             edInput  isApproved      isRT\n",
       "edInput     1.000000   -1.000000  0.246425\n",
       "isApproved -1.000000    1.000000 -0.246425\n",
       "isRT        0.246425   -0.246425  1.000000"
      ]
     },
     "execution_count": 14,
     "metadata": {},
     "output_type": "execute_result"
    }
   ],
   "source": [
    "df[df['edInput']!=-1][['edInput','isApproved','isRT']].corr()"
   ]
  },
  {
   "attachments": {},
   "cell_type": "markdown",
   "metadata": {},
   "source": [
    "* As we see from the correlation matrix, we can drop 'isApproved' as it is the same as our label.\n",
    "* isRT column - after quick google search it seems that it is a boolean column which indicates if the tweet is a retweet or not. We can remove it.\n",
    "* We also split the data into labeled and not yet labeled data. We need labeled data in order to train our model. I'll keep our unlabeled data to use it later for predictions on the \"real world\" data."
   ]
  },
  {
   "cell_type": "code",
   "execution_count": 15,
   "metadata": {},
   "outputs": [],
   "source": [
    "df = df.drop(columns=['isApproved','isRT'])"
   ]
  },
  {
   "cell_type": "code",
   "execution_count": 16,
   "metadata": {},
   "outputs": [],
   "source": [
    "df_unlabeled = df[df['edInput']==-1]\n",
    "df = df[df['edInput']!=-1]"
   ]
  },
  {
   "cell_type": "code",
   "execution_count": 17,
   "metadata": {},
   "outputs": [
    {
     "name": "stdout",
     "output_type": "stream",
     "text": [
      "(422665, 4)\n",
      "(322318, 4)\n"
     ]
    }
   ],
   "source": [
    "print(df_unlabeled.shape)\n",
    "print(df.shape)"
   ]
  },
  {
   "cell_type": "code",
   "execution_count": 18,
   "metadata": {},
   "outputs": [
    {
     "data": {
      "text/plain": [
       "Index(['edInput', 'text', 'topicName', 'usName'], dtype='object')"
      ]
     },
     "execution_count": 18,
     "metadata": {},
     "output_type": "execute_result"
    }
   ],
   "source": [
    "df.columns"
   ]
  },
  {
   "cell_type": "code",
   "execution_count": 19,
   "metadata": {},
   "outputs": [
    {
     "data": {
      "text/html": [
       "<div>\n",
       "<style scoped>\n",
       "    .dataframe tbody tr th:only-of-type {\n",
       "        vertical-align: middle;\n",
       "    }\n",
       "\n",
       "    .dataframe tbody tr th {\n",
       "        vertical-align: top;\n",
       "    }\n",
       "\n",
       "    .dataframe thead th {\n",
       "        text-align: right;\n",
       "    }\n",
       "</style>\n",
       "<table border=\"1\" class=\"dataframe\">\n",
       "  <thead>\n",
       "    <tr style=\"text-align: right;\">\n",
       "      <th></th>\n",
       "      <th>edInput</th>\n",
       "      <th>topicName</th>\n",
       "      <th>usName</th>\n",
       "      <th>text</th>\n",
       "    </tr>\n",
       "    <tr>\n",
       "      <th>tweetID</th>\n",
       "      <th></th>\n",
       "      <th></th>\n",
       "      <th></th>\n",
       "      <th></th>\n",
       "    </tr>\n",
       "  </thead>\n",
       "  <tbody>\n",
       "    <tr>\n",
       "      <th>1070970722598707200</th>\n",
       "      <td>1</td>\n",
       "      <td>Fashion</td>\n",
       "      <td>Gentleman’s style</td>\n",
       "      <td>Which one would you choose? 👀 https://t.co/U0s3alfBNp</td>\n",
       "    </tr>\n",
       "    <tr>\n",
       "      <th>1070981773616648193</th>\n",
       "      <td>1</td>\n",
       "      <td>Interesting</td>\n",
       "      <td>Satisfying Slime</td>\n",
       "      <td>How it’s made. 😊 https://t.co/3XjOw4gIkg</td>\n",
       "    </tr>\n",
       "    <tr>\n",
       "      <th>916500037818916866</th>\n",
       "      <td>2</td>\n",
       "      <td>Interesting</td>\n",
       "      <td>Tips &amp; Tricks Ideas ✌</td>\n",
       "      <td>Smile, because it confuses people. Smile, because it’s easier than explaining what is killing you inside. https://t.co/FGlnnRfP5w</td>\n",
       "    </tr>\n",
       "    <tr>\n",
       "      <th>1071135340696625152</th>\n",
       "      <td>1</td>\n",
       "      <td>Art</td>\n",
       "      <td>𝐴𝑟𝑡.</td>\n",
       "      <td>𝐶𝑙𝑎𝑢𝑑𝑒 𝑀𝑜𝑛𝑒𝑡 https://t.co/WdavWJcSyw</td>\n",
       "    </tr>\n",
       "    <tr>\n",
       "      <th>1071141175606829056</th>\n",
       "      <td>1</td>\n",
       "      <td>Animal</td>\n",
       "      <td>Nature is Amazing ☘️</td>\n",
       "      <td>Baby Alpacas are so under appreciated. https://t.co/SDXjKaVscv</td>\n",
       "    </tr>\n",
       "    <tr>\n",
       "      <th>...</th>\n",
       "      <td>...</td>\n",
       "      <td>...</td>\n",
       "      <td>...</td>\n",
       "      <td>...</td>\n",
       "    </tr>\n",
       "    <tr>\n",
       "      <th>1153952965650079744</th>\n",
       "      <td>1</td>\n",
       "      <td>Flowers</td>\n",
       "      <td>BGCI</td>\n",
       "      <td>Apply for a grant to implement plant conservation at your botanic garden today! https://t.co/gj2eDzIWeB https://t.co/z1iJjZPOFn</td>\n",
       "    </tr>\n",
       "    <tr>\n",
       "      <th>1154059414174703617</th>\n",
       "      <td>2</td>\n",
       "      <td>Business</td>\n",
       "      <td>FOOD INSIDER</td>\n",
       "      <td>Are you team Shake Shack or team In-N-Out? https://t.co/3bDmzocr6P</td>\n",
       "    </tr>\n",
       "    <tr>\n",
       "      <th>1154061474383441920</th>\n",
       "      <td>1</td>\n",
       "      <td>Art</td>\n",
       "      <td>Phaidon</td>\n",
       "      <td>How @OlafurEliasson's 'hedonistic' dad helped his art https://t.co/x9tFi65TjW @BBCHARDtalk @TheZeinabBadawi https://t.co/Ocuv6jrVbH</td>\n",
       "    </tr>\n",
       "    <tr>\n",
       "      <th>1154130836217683968</th>\n",
       "      <td>1</td>\n",
       "      <td>Art</td>\n",
       "      <td>Alice Waters</td>\n",
       "      <td>I am delighted that @IfOnly and @Sothebys are offering a special auction lot to cook at my home with @CiaoSamin! Bidding ends Friday and proceeds support the @edibleschoolyrd! \\n\\nhttps://t.co/jmHg5unL2w</td>\n",
       "    </tr>\n",
       "    <tr>\n",
       "      <th>1154108888116940800</th>\n",
       "      <td>1</td>\n",
       "      <td>Cryptocurrency</td>\n",
       "      <td>🍄🌲BenjaminBlunts🌲🍄</td>\n",
       "      <td>btc dominance is now in a downtrend and alts are a poppin.\\n\\ncongratz fam we made it https://t.co/MsPcAPdpAm</td>\n",
       "    </tr>\n",
       "  </tbody>\n",
       "</table>\n",
       "<p>322318 rows × 4 columns</p>\n",
       "</div>"
      ],
      "text/plain": [
       "                     edInput       topicName                 usName  \\\n",
       "tweetID                                                               \n",
       "1070970722598707200        1         Fashion      Gentleman’s style   \n",
       "1070981773616648193        1     Interesting       Satisfying Slime   \n",
       "916500037818916866         2     Interesting  Tips & Tricks Ideas ✌   \n",
       "1071135340696625152        1             Art                   𝐴𝑟𝑡.   \n",
       "1071141175606829056        1          Animal   Nature is Amazing ☘️   \n",
       "...                      ...             ...                    ...   \n",
       "1153952965650079744        1         Flowers                   BGCI   \n",
       "1154059414174703617        2        Business           FOOD INSIDER   \n",
       "1154061474383441920        1             Art                Phaidon   \n",
       "1154130836217683968        1             Art           Alice Waters   \n",
       "1154108888116940800        1  Cryptocurrency     🍄🌲BenjaminBlunts🌲🍄   \n",
       "\n",
       "                                                                                                                                                                                                                            text  \n",
       "tweetID                                                                                                                                                                                                                           \n",
       "1070970722598707200                                                                                                                                                        Which one would you choose? 👀 https://t.co/U0s3alfBNp  \n",
       "1070981773616648193                                                                                                                                                                     How it’s made. 😊 https://t.co/3XjOw4gIkg  \n",
       "916500037818916866                                                                             Smile, because it confuses people. Smile, because it’s easier than explaining what is killing you inside. https://t.co/FGlnnRfP5w  \n",
       "1071135340696625152                                                                                                                                                                         𝐶𝑙𝑎𝑢𝑑𝑒 𝑀𝑜𝑛𝑒𝑡 https://t.co/WdavWJcSyw  \n",
       "1071141175606829056                                                                                                                                               Baby Alpacas are so under appreciated. https://t.co/SDXjKaVscv  \n",
       "...                                                                                                                                                                                                                          ...  \n",
       "1153952965650079744                                                                              Apply for a grant to implement plant conservation at your botanic garden today! https://t.co/gj2eDzIWeB https://t.co/z1iJjZPOFn  \n",
       "1154059414174703617                                                                                                                                           Are you team Shake Shack or team In-N-Out? https://t.co/3bDmzocr6P  \n",
       "1154061474383441920                                                                          How @OlafurEliasson's 'hedonistic' dad helped his art https://t.co/x9tFi65TjW @BBCHARDtalk @TheZeinabBadawi https://t.co/Ocuv6jrVbH  \n",
       "1154130836217683968  I am delighted that @IfOnly and @Sothebys are offering a special auction lot to cook at my home with @CiaoSamin! Bidding ends Friday and proceeds support the @edibleschoolyrd! \\n\\nhttps://t.co/jmHg5unL2w  \n",
       "1154108888116940800                                                                                                btc dominance is now in a downtrend and alts are a poppin.\\n\\ncongratz fam we made it https://t.co/MsPcAPdpAm  \n",
       "\n",
       "[322318 rows x 4 columns]"
      ]
     },
     "execution_count": 19,
     "metadata": {},
     "output_type": "execute_result"
    }
   ],
   "source": [
    "df = df[['edInput', 'topicName', 'usName','text' ]]\n",
    "df"
   ]
  },
  {
   "attachments": {},
   "cell_type": "markdown",
   "metadata": {},
   "source": [
    "* Since we will be clasifying only Business or no business tweets, we need to create a new column which will be :\n",
    "1. 1 if the 'topicName' == Business and 'edInput' == 1 \n",
    "2. We drop other topics."
   ]
  },
  {
   "cell_type": "code",
   "execution_count": 20,
   "metadata": {},
   "outputs": [
    {
     "data": {
      "text/plain": [
       "(30024, 4)"
      ]
     },
     "execution_count": 20,
     "metadata": {},
     "output_type": "execute_result"
    }
   ],
   "source": [
    "df = df.copy(deep=True)\n",
    "df = df[df['topicName']=='Business']\n",
    "df.shape"
   ]
  },
  {
   "attachments": {},
   "cell_type": "markdown",
   "metadata": {},
   "source": [
    "* Removing topicName and edInput columns as we don't need them anymore."
   ]
  },
  {
   "cell_type": "code",
   "execution_count": 21,
   "metadata": {},
   "outputs": [
    {
     "data": {
      "text/html": [
       "<div>\n",
       "<style scoped>\n",
       "    .dataframe tbody tr th:only-of-type {\n",
       "        vertical-align: middle;\n",
       "    }\n",
       "\n",
       "    .dataframe tbody tr th {\n",
       "        vertical-align: top;\n",
       "    }\n",
       "\n",
       "    .dataframe thead th {\n",
       "        text-align: right;\n",
       "    }\n",
       "</style>\n",
       "<table border=\"1\" class=\"dataframe\">\n",
       "  <thead>\n",
       "    <tr style=\"text-align: right;\">\n",
       "      <th></th>\n",
       "      <th>IsBusiness</th>\n",
       "      <th>usName</th>\n",
       "      <th>text</th>\n",
       "    </tr>\n",
       "    <tr>\n",
       "      <th>tweetID</th>\n",
       "      <th></th>\n",
       "      <th></th>\n",
       "      <th></th>\n",
       "    </tr>\n",
       "  </thead>\n",
       "  <tbody>\n",
       "    <tr>\n",
       "      <th>1072758722315862021</th>\n",
       "      <td>0</td>\n",
       "      <td>BBC Breaking News</td>\n",
       "      <td>UK Prime Minister Theresa May will face a vote of no confidence in her leadership later on Wednesday https://t.co/wzta1v9ScU</td>\n",
       "    </tr>\n",
       "    <tr>\n",
       "      <th>1072959907958276096</th>\n",
       "      <td>0</td>\n",
       "      <td>BBC Breaking News</td>\n",
       "      <td>UK PM Theresa May wins confidence vote with 200 out of 317 Tory MPs supporting her to stay on as leader\\n\\nhttps://t.co/9Vw2gOQoDc https://t.co/bafuUsZoKa</td>\n",
       "    </tr>\n",
       "  </tbody>\n",
       "</table>\n",
       "</div>"
      ],
      "text/plain": [
       "                     IsBusiness             usName  \\\n",
       "tweetID                                              \n",
       "1072758722315862021           0  BBC Breaking News   \n",
       "1072959907958276096           0  BBC Breaking News   \n",
       "\n",
       "                                                                                                                                                                           text  \n",
       "tweetID                                                                                                                                                                          \n",
       "1072758722315862021                                UK Prime Minister Theresa May will face a vote of no confidence in her leadership later on Wednesday https://t.co/wzta1v9ScU  \n",
       "1072959907958276096  UK PM Theresa May wins confidence vote with 200 out of 317 Tory MPs supporting her to stay on as leader\\n\\nhttps://t.co/9Vw2gOQoDc https://t.co/bafuUsZoKa  "
      ]
     },
     "execution_count": 21,
     "metadata": {},
     "output_type": "execute_result"
    }
   ],
   "source": [
    "df.loc[:,'IsBusiness'] = np.where(df['edInput']==1, 1, 0)\n",
    "df = df[['IsBusiness', 'usName', 'text']]\n",
    "df.head(2)"
   ]
  },
  {
   "attachments": {},
   "cell_type": "markdown",
   "metadata": {},
   "source": [
    "* Cheching how balanced our data is:"
   ]
  },
  {
   "cell_type": "code",
   "execution_count": 22,
   "metadata": {},
   "outputs": [
    {
     "name": "stdout",
     "output_type": "stream",
     "text": [
      "1    17836\n",
      "0    12188\n",
      "Name: IsBusiness, dtype: int64\n"
     ]
    }
   ],
   "source": [
    "print(df['IsBusiness'].value_counts())"
   ]
  },
  {
   "cell_type": "code",
   "execution_count": 23,
   "metadata": {},
   "outputs": [
    {
     "data": {
      "image/png": "[encoded data removed]",
      "text/plain": [
       "<Figure size 300x300 with 1 Axes>"
      ]
     },
     "metadata": {},
     "output_type": "display_data"
    }
   ],
   "source": [
    "plt.figure(figsize=(3,3))\n",
    "plt.pie(df['IsBusiness'].value_counts(), labels=['Not Business', 'Business'], autopct='%1.1f%%', startangle=90, colors=['#ED9B9D','#B5E8C0'])\n",
    "plt.title('Business Tweets')\n",
    "plt.show()"
   ]
  },
  {
   "attachments": {},
   "cell_type": "markdown",
   "metadata": {},
   "source": [
    "#### We can clearly see, that the data is not balanced. We will need to balance the data before training the model.\n",
    "Few possible ways to approach:\n",
    "1. __Using the correct metrics for imbalanced data.__ I will not use Accuracy as it will not give us a good results as we can classify all samples as \"Not Business\" and get an accuracy of 94.5%, yet totally failing to catch \"Business\" samples. I'll use F1 score. F1 is a harmonic mean of precision and recall. It is a good metric to use when we have imbalanced data.\n",
    "2. __Oversampling__ - Randomly increasing of the minority class using the same data points. This technic can be pron to overfitting, especially if we oversample too much.  \n",
    "3. __Synthetic Minority Oversampling Technique - SMOTE__ - This technic will create new samples based on the existing ones. It will not overfit as much as the oversampling, but it can be pron to overfitting as well. This generaes \"Similar\" samples, but not the same.\n",
    "3. __Undersampling__ - This will help us to balance the data, but we will lose some of the data randomly truncated. Using this we can lose some crutial information. \n",
    "5. __Using Bagging__ - BalancedBaggingClassifier - sklearn classifier but with additional balancing.\n",
    "6. __Treshhold moving + Grid Search__ - We can try to move the treshhold for the classification and see if we can get better results. For imbalanced data sets default 0.5 treshhold doesn't work well. We can also use Grid Search to find the best treshhold."
   ]
  },
  {
   "attachments": {},
   "cell_type": "markdown",
   "metadata": {},
   "source": [
    "* Before dealing with the imbalanced data:\n",
    "1. Let's clean obvious noise: \n",
    "    1. Scikit-learn has basic buit-in text cleanng regex. \n",
    "    2. And we need to deal with URLs inside all docs.\n",
    "    3. As well as with emojis.\n",
    "    4. And Stopwords.\n",
    "2. Train the model with the default parameters and see what we get to estimate the baseline."
   ]
  },
  {
   "cell_type": "code",
   "execution_count": 51,
   "metadata": {},
   "outputs": [
    {
     "name": "stderr",
     "output_type": "stream",
     "text": [
      "[nltk_data] Downloading package stopwords to\n",
      "[nltk_data]     C:\\Users\\Vasyl\\AppData\\Roaming\\nltk_data...\n",
      "[nltk_data]   Package stopwords is already up-to-date!\n"
     ]
    }
   ],
   "source": [
    "from sklearn.feature_extraction.text import TfidfVectorizer\n",
    "from sklearn.model_selection import train_test_split\n",
    "from sklearn.model_selection import cross_val_score\n",
    "from sklearn.model_selection import RepeatedStratifiedKFold\n",
    "from sklearn.metrics import classification_report, confusion_matrix\n",
    "from sklearn.model_selection import GridSearchCV\n",
    "from sklearn.pipeline import make_pipeline\n",
    "from sklearn.linear_model import LogisticRegression # Our Baseline Model\n",
    "from sklearn.tree import DecisionTreeClassifier\n",
    "\n",
    "import xgboost as xgb\n",
    "\n",
    "from imblearn.over_sampling import SMOTE\n",
    "from imblearn.over_sampling import ADASYN\n",
    "from imblearn.under_sampling import ClusterCentroids\n",
    "from imblearn.ensemble import BalancedBaggingClassifier\n",
    "\n",
    "from nltk.corpus import stopwords\n",
    "import nltk\n",
    "nltk.download('stopwords')\n",
    "import re\n",
    "import demoji\n",
    "from unidecode import unidecode\n",
    "import pickle"
   ]
  },
  {
   "cell_type": "code",
   "execution_count": 25,
   "metadata": {},
   "outputs": [],
   "source": [
    "def custom_tokenizer(doc):   \n",
    "    # define stopwords \n",
    "    stops = (stopwords.words('english'))\n",
    "    stops.extend([])    \n",
    "\n",
    "    doc = demoji.replace_with_desc(doc, sep=' ') # replace emojis with text\n",
    "    doc = unidecode(doc) # remove accents\n",
    "    doc = re.sub(r'http\\S+', '', doc) # remove urls\n",
    "    doc = re.sub(r'\\b\\d+\\b','', doc) # remove numbers\n",
    "    doc = doc.lower() # decapitalization\n",
    "    doc = re.findall(r'(?u)\\b\\w\\w+\\b', doc) # standard scikit-learn pattern\n",
    "\n",
    "    tokens = [word for word in doc if word not in stops] # remove stopwords\n",
    "\n",
    "    return tokens\n",
    "\n",
    "# ---------------- For testing ----------------\n",
    "# print(df['text'].iloc[0])\n",
    "# doc = df['text'].iloc[0] + ' 544' + ' Them' + ' Abig' + ' 東日本大震災から8年'\n",
    "# custom_tokenizer(doc)"
   ]
  },
  {
   "attachments": {},
   "cell_type": "markdown",
   "metadata": {},
   "source": [
    "* Splitting the data into train and test sets."
   ]
  },
  {
   "cell_type": "code",
   "execution_count": 26,
   "metadata": {},
   "outputs": [
    {
     "name": "stdout",
     "output_type": "stream",
     "text": [
      "(24019,) (24019,)\n",
      "(6005,) (6005,)\n"
     ]
    }
   ],
   "source": [
    "y = df['IsBusiness']\n",
    "X = df['text']\n",
    "\n",
    "X_train_text, X_test_text, y_train, y_test = train_test_split(X, y, test_size=0.2, random_state=777, stratify=y)\n",
    "print (X_train_text.shape, y_train.shape)\n",
    "print (X_test_text.shape, y_test.shape)"
   ]
  },
  {
   "attachments": {},
   "cell_type": "markdown",
   "metadata": {},
   "source": [
    "* Checking split results to see if we have the same distribution of classes in both sets."
   ]
  },
  {
   "cell_type": "code",
   "execution_count": 27,
   "metadata": {},
   "outputs": [
    {
     "name": "stdout",
     "output_type": "stream",
     "text": [
      "0.6832994603686313\n",
      "0.6834875245304177\n"
     ]
    }
   ],
   "source": [
    "print(y_train.value_counts().iloc[1]/y_train.value_counts().iloc[0])\n",
    "print(y_test.value_counts().iloc[1]/y_test.value_counts().iloc[0])"
   ]
  },
  {
   "cell_type": "code",
   "execution_count": 28,
   "metadata": {},
   "outputs": [],
   "source": [
    "# Preparing more pythonic way to save and load objects\n",
    "def save_load_obj(obj, path, mode='save'):\n",
    "    if mode == 'save':\n",
    "        with open(path, 'wb') as file:\n",
    "            pickle.dump(obj, file)\n",
    "    else:\n",
    "        with open(path, 'rb') as file:\n",
    "            return pickle.load(file)"
   ]
  },
  {
   "attachments": {},
   "cell_type": "markdown",
   "metadata": {},
   "source": [
    "#### Here data prep ends and we start looking for better relampling and model tuning."
   ]
  },
  {
   "cell_type": "code",
   "execution_count": 29,
   "metadata": {},
   "outputs": [
    {
     "ename": "Exception",
     "evalue": "Stop Execution",
     "output_type": "error",
     "traceback": [
      "\u001b[1;31m---------------------------------------------------------------------------\u001b[0m",
      "\u001b[1;31mException\u001b[0m                                 Traceback (most recent call last)",
      "Cell \u001b[1;32mIn[29], line 2\u001b[0m\n\u001b[0;32m      1\u001b[0m \u001b[39m# Raising error to be able to jump to different cells after data prep.\u001b[39;00m\n\u001b[1;32m----> 2\u001b[0m \u001b[39mraise\u001b[39;00m \u001b[39mException\u001b[39;00m(\u001b[39m'\u001b[39m\u001b[39mStop Execution\u001b[39m\u001b[39m'\u001b[39m)\n",
      "\u001b[1;31mException\u001b[0m: Stop Execution"
     ]
    }
   ],
   "source": [
    "# Raising error to be able to jump to different cells after data prep.\n",
    "raise Exception('Stop Execution')"
   ]
  },
  {
   "attachments": {},
   "cell_type": "markdown",
   "metadata": {},
   "source": [
    "### 1st Run"
   ]
  },
  {
   "cell_type": "code",
   "execution_count": null,
   "metadata": {},
   "outputs": [],
   "source": [
    "vect = TfidfVectorizer(tokenizer=custom_tokenizer, min_df=5, max_df=0.2, ngram_range=(1,2))\n",
    "# Tokenization and building vocabulary with Fit\n",
    "vect_fitted = vect.fit(X_train_text)\n",
    "\n",
    "save_load_obj(vect_fitted, r'1st run\\TfidfVect-X_train-fit-mindf-5-maxdf-02-ngram-2.pkl', mode='save')"
   ]
  },
  {
   "cell_type": "code",
   "execution_count": null,
   "metadata": {},
   "outputs": [],
   "source": [
    "vect_fitted = save_load_obj('', r'1st run\\TfidfVect-X_train-fit-mindf-5-maxdf-02-ngram-2.pkl', mode='load')"
   ]
  },
  {
   "cell_type": "code",
   "execution_count": null,
   "metadata": {},
   "outputs": [
    {
     "name": "stdout",
     "output_type": "stream",
     "text": [
      "Vocabulary size: 10130\n",
      "\n",
      "Every 10000th word: \n",
      " ['10th', 'costs', 'help employees', 'next iphone', 'sharp', 'worrying']\n",
      "\n",
      "Fisrt 25 words: \n",
      " ['10th' '11th' '17th' '18th' '1960s' '1970s' '1980s' '1mdb' '1mdb scandal'\n",
      " '1st' '21st' '21st century' '2nd' '30s' '35s' '3d' '3rd' '40s' '4th'\n",
      " '50s' '50th' '50th anniversary' '5g' '5g mobile' '5g network']\n",
      "\n",
      "Last 25 words: \n",
      " ['york times' 'yorkers' 'young' 'young people' 'younger' 'youngest'\n",
      " 'youth' 'youtube' 'youtube star' 'youtuber' 'yuan' 'zealand'\n",
      " 'zealand mosque' 'zealand prime' 'zero' 'zhong' 'zimbabwe' 'zimmern'\n",
      " 'zion' 'zion williamson' 'zip' 'zone' 'zones' 'zuckerberg'\n",
      " 'zuckerberg says']\n"
     ]
    }
   ],
   "source": [
    "feature_names = vect_fitted.get_feature_names_out()\n",
    "\n",
    "print(f'Vocabulary size: {len(vect_fitted.vocabulary_)}')\n",
    "\n",
    "c = 0\n",
    "to_print = []\n",
    "for i, value in enumerate(feature_names):\n",
    "    # print every 2000th key\n",
    "    if c % 2000 == 0:\n",
    "        to_print.append(value)\n",
    "    c += 1\n",
    "print(f'\\nEvery 10000th word: \\n {to_print}')\n",
    "print(f'\\nFisrt 25 words: \\n {feature_names[:25]}')\n",
    "print(f'\\nLast 25 words: \\n {feature_names[-25:]}')\n"
   ]
  },
  {
   "attachments": {},
   "cell_type": "markdown",
   "metadata": {},
   "source": [
    "* Features seems to be ok to start working with."
   ]
  },
  {
   "cell_type": "code",
   "execution_count": null,
   "metadata": {},
   "outputs": [],
   "source": [
    "# Transforming the training data into a document-term sparce matrix\n",
    "X_train = vect_fitted.transform(X_train_text)\n",
    "save_load_obj(X_train, r'1st run\\X_train-transformed.pkl', mode='save')"
   ]
  },
  {
   "cell_type": "code",
   "execution_count": null,
   "metadata": {},
   "outputs": [
    {
     "name": "stdout",
     "output_type": "stream",
     "text": [
      "X_train: <24019x10130 sparse matrix of type '<class 'numpy.float64'>'\n",
      "\twith 242922 stored elements in Compressed Sparse Row format>\n"
     ]
    }
   ],
   "source": [
    "X_train = save_load_obj('', r'1st run\\X_train-transformed.pkl', mode='load')\n",
    "print(f'X_train: {repr(X_train)}')"
   ]
  },
  {
   "attachments": {},
   "cell_type": "markdown",
   "metadata": {},
   "source": [
    "* Now Let's try evaluating LogReg with cross validation and see what we get."
   ]
  },
  {
   "cell_type": "code",
   "execution_count": null,
   "metadata": {},
   "outputs": [
    {
     "name": "stdout",
     "output_type": "stream",
     "text": [
      "Cross-Validation F1 Scores: [0.85454545 0.84555855 0.85142469 0.84575097 0.85488747 0.847981\n",
      " 0.85123687 0.85182049 0.85027726 0.84810765 0.85074878 0.85128031\n",
      " 0.85079151 0.85169563 0.8499242  0.85435587 0.84457974 0.85254692\n",
      " 0.85361731 0.84517981]\n"
     ]
    }
   ],
   "source": [
    "cv = RepeatedStratifiedKFold(n_splits=5, n_repeats=4, random_state=777) # Creating a cross-validation object to account for class imbalance.\n",
    "lg = LogisticRegression(max_iter=500, n_jobs=-1)\n",
    "scores = cross_val_score(lg, X_train, y_train, cv=cv, scoring='f1') # Picking F1 score as it is not balanced dataset.\n",
    "print(f'Cross-Validation F1 Scores: {scores}')"
   ]
  },
  {
   "cell_type": "code",
   "execution_count": null,
   "metadata": {},
   "outputs": [
    {
     "name": "stdout",
     "output_type": "stream",
     "text": [
      "Best cross-validation score: 0.8503155247158449\n",
      "Best parameters: {'C': 1}\n"
     ]
    }
   ],
   "source": [
    "param_grid = {'C': [0.01, 0.1, 1, 10, 100, 1000]}\n",
    "grid = GridSearchCV(lg, param_grid, cv=cv, scoring='f1')\n",
    "grid.fit(X_train, y_train)\n",
    "print(f'Best cross-validation score: {grid.best_score_}')\n",
    "print(f'Best parameters: {grid.best_params_}')"
   ]
  },
  {
   "cell_type": "code",
   "execution_count": null,
   "metadata": {},
   "outputs": [
    {
     "name": "stdout",
     "output_type": "stream",
     "text": [
      "Base LogReg Prediction score: 0.8462162162162162\n"
     ]
    }
   ],
   "source": [
    "X_test = vect_fitted.transform(X_test_text)\n",
    "print(f'Base LogReg Prediction score: {grid.score(X_test, y_test)}')"
   ]
  },
  {
   "cell_type": "code",
   "execution_count": null,
   "metadata": {},
   "outputs": [],
   "source": [
    "# Saving time by saving the model\n",
    "save_load_obj(grid, r'1st run\\LogReg-C-1-max_iter-500.pkl', mode='save')"
   ]
  },
  {
   "attachments": {},
   "cell_type": "markdown",
   "metadata": {},
   "source": [
    "* Initial results are not exactly the best ones, but we can do better. Let's try to:\n",
    "1. Balance the data and see if we can get better results.( Oversampling - SMOTE/ADASYN, Undersampling, BaggingClassifier)\n",
    "2. Modify TF-IDF parameters and see if we can get better results.\n",
    "3. Try different models and see if we can get better results."
   ]
  },
  {
   "attachments": {},
   "cell_type": "markdown",
   "metadata": {},
   "source": [
    "#### Balancing Data"
   ]
  },
  {
   "attachments": {},
   "cell_type": "markdown",
   "metadata": {},
   "source": [
    "### 2nd Run\n",
    "* Oversampling - SMOTE"
   ]
  },
  {
   "cell_type": "code",
   "execution_count": null,
   "metadata": {},
   "outputs": [
    {
     "name": "stdout",
     "output_type": "stream",
     "text": [
      "X_train: <24019x10130 sparse matrix of type '<class 'numpy.float64'>'\n",
      "\twith 242922 stored elements in Compressed Sparse Row format>\n"
     ]
    }
   ],
   "source": [
    "# Loading X_train from the previous run\n",
    "X_train = save_load_obj('', r'1st run\\X_train-transformed.pkl', mode='load')\n",
    "print(f'X_train: {repr(X_train)}')"
   ]
  },
  {
   "cell_type": "code",
   "execution_count": null,
   "metadata": {},
   "outputs": [],
   "source": [
    "# Resampling the minority class.\n",
    "sm = SMOTE(random_state=777)\n",
    "# Fit the model to generate the data.\n",
    "oversampled_X_train, oversampled_y_train = sm.fit_resample(X_train, y_train)"
   ]
  },
  {
   "cell_type": "code",
   "execution_count": null,
   "metadata": {},
   "outputs": [
    {
     "name": "stdout",
     "output_type": "stream",
     "text": [
      "oversampled_X shape: (28538, 10130)\n",
      "oversampled_y shape: (28538,)\n",
      "oversampler_y value counts:\n",
      " 1    14269\n",
      "0    14269\n",
      "Name: IsBusiness, dtype: int64\n"
     ]
    }
   ],
   "source": [
    "print(f'oversampled_X shape: {oversampled_X_train.shape}')\n",
    "print(f'oversampled_y shape: {oversampled_y_train.shape}')\n",
    "print(f'oversampler_y value counts:\\n',oversampled_y_train.value_counts())"
   ]
  },
  {
   "cell_type": "code",
   "execution_count": null,
   "metadata": {},
   "outputs": [
    {
     "name": "stdout",
     "output_type": "stream",
     "text": [
      "Best cross-validation score: 0.8346745308992229\n",
      "Best parameters: {'C': 1}\n"
     ]
    }
   ],
   "source": [
    "# GridSearchCV\n",
    "param_grid = {'C': [0.01, 0.1, 1, 10, 100]}\n",
    "grid = GridSearchCV(lg, param_grid, cv=5, scoring='f1') # Maybe change to accuracy as it is balanced now ?\n",
    "grid.fit(oversampled_X_train, oversampled_y_train)\n",
    "print(f'Best cross-validation score: {grid.best_score_}')\n",
    "print(f'Best parameters: {grid.best_params_}')"
   ]
  },
  {
   "cell_type": "code",
   "execution_count": null,
   "metadata": {},
   "outputs": [
    {
     "name": "stdout",
     "output_type": "stream",
     "text": [
      "Base LogReg Prediction score: 83\n"
     ]
    }
   ],
   "source": [
    "#---------------------------------------\n",
    "# Predicting on the test set\n",
    "X_test = vect_fitted.transform(X_test_text)\n",
    "score = int(round(grid.score(X_test, y_test), 2)*100)\n",
    "print(f'Base LogReg Prediction score: {score}')"
   ]
  },
  {
   "cell_type": "code",
   "execution_count": null,
   "metadata": {},
   "outputs": [],
   "source": [
    "save_load_obj(grid, rf'2nd run - SMOTE\\LogReg-C-1-max_iter-500-F1-{score}%.pkl', mode='save')"
   ]
  },
  {
   "attachments": {},
   "cell_type": "markdown",
   "metadata": {},
   "source": [
    "### 3rd Run\n",
    "* Oversampling ADASYN"
   ]
  },
  {
   "cell_type": "code",
   "execution_count": null,
   "metadata": {},
   "outputs": [
    {
     "name": "stdout",
     "output_type": "stream",
     "text": [
      "X_train: <24019x10130 sparse matrix of type '<class 'numpy.float64'>'\n",
      "\twith 242922 stored elements in Compressed Sparse Row format>\n"
     ]
    },
    {
     "name": "stderr",
     "output_type": "stream",
     "text": [
      "d:\\Study 2018 and later\\Mignimind Bootcamp\\Code\\P4-NLP-Tweet-Classification\\.venv\\lib\\site-packages\\imblearn\\over_sampling\\_adasyn.py:156: FutureWarning: The parameter `n_jobs` has been deprecated in 0.10 and will be removed in 0.12. You can pass an nearest neighbors estimator where `n_jobs` is already set instead.\n",
      "  warnings.warn(\n"
     ]
    },
    {
     "name": "stdout",
     "output_type": "stream",
     "text": [
      "oversampled_X shape: (30486, 10130)\n",
      "oversampled_y shape: (30486,)\n",
      "oversampler_y value counts:\n",
      " 0    16217\n",
      "1    14269\n",
      "Name: IsBusiness, dtype: int64\n"
     ]
    }
   ],
   "source": [
    "# Loading X_train from the previous run\n",
    "X_train = save_load_obj('', r'1st run\\X_train-transformed.pkl', mode='load')\n",
    "print(f'X_train: {repr(X_train)}')\n",
    "\n",
    "# Resampling the minority class.\n",
    "ada = ADASYN(random_state=77)\n",
    "# Fit the model to generate the data.\n",
    "oversampled_X_train, oversampled_y_train = ada.fit_resample(X_train, y_train)\n",
    "\n",
    "print(f'oversampled_X shape: {oversampled_X_train.shape}')\n",
    "print(f'oversampled_y shape: {oversampled_y_train.shape}')\n",
    "print(f'oversampler_y value counts:\\n',oversampled_y_train.value_counts())"
   ]
  },
  {
   "cell_type": "code",
   "execution_count": null,
   "metadata": {},
   "outputs": [
    {
     "data": {
      "image/png": "[encoded data removed]",
      "text/plain": [
       "<Figure size 500x300 with 1 Axes>"
      ]
     },
     "metadata": {},
     "output_type": "display_data"
    }
   ],
   "source": [
    "oversampled_y_train.value_counts().plot(kind='bar', title='Count points', figsize=(5, 2))\n",
    "plt.show()"
   ]
  },
  {
   "cell_type": "code",
   "execution_count": null,
   "metadata": {},
   "outputs": [
    {
     "name": "stdout",
     "output_type": "stream",
     "text": [
      "Best cross-validation score: 0.8326337342684461\n",
      "Best parameters: {'C': 10}\n"
     ]
    }
   ],
   "source": [
    "# GridSearchCV\n",
    "param_grid = {'C': [0.01, 0.1, 1, 10, 100]}\n",
    "grid = GridSearchCV(lg, param_grid, cv=5, scoring='f1') # Maybe change to accuracy as it is balanced now ?\n",
    "grid.fit(oversampled_X_train, oversampled_y_train)\n",
    "print(f'Best cross-validation score: {grid.best_score_}')\n",
    "print(f'Best parameters: {grid.best_params_}')"
   ]
  },
  {
   "cell_type": "code",
   "execution_count": null,
   "metadata": {},
   "outputs": [
    {
     "name": "stdout",
     "output_type": "stream",
     "text": [
      "Base LogReg Prediction score: 83%\n"
     ]
    }
   ],
   "source": [
    "#---------------------------------------\n",
    "# Predicting on the test set\n",
    "X_test = vect_fitted.transform(X_test_text)\n",
    "score = int(round(grid.score(X_test, y_test), 2)*100)\n",
    "print(f'Base LogReg Prediction score: {score}%')"
   ]
  },
  {
   "cell_type": "code",
   "execution_count": null,
   "metadata": {},
   "outputs": [],
   "source": [
    "save_load_obj(grid, rf'3rd run - ADASYN\\LogReg-C-10-max_iter-500-F1-{score}%.pkl', mode='save')"
   ]
  },
  {
   "attachments": {},
   "cell_type": "markdown",
   "metadata": {},
   "source": [
    "### 4th Run\n",
    "* Undersampling - ClusterCentroids"
   ]
  },
  {
   "cell_type": "code",
   "execution_count": 37,
   "metadata": {},
   "outputs": [],
   "source": [
    "lg = LogisticRegression(max_iter=500, n_jobs=-1)\n",
    "vect_fitted = save_load_obj('', r'1st run\\TfidfVect-X_train-fit-mindf-5-maxdf-02-ngram-2.pkl', mode='load')"
   ]
  },
  {
   "cell_type": "code",
   "execution_count": 30,
   "metadata": {},
   "outputs": [
    {
     "name": "stdout",
     "output_type": "stream",
     "text": [
      "X_train: <24019x10130 sparse matrix of type '<class 'numpy.float64'>'\n",
      "\twith 242922 stored elements in Compressed Sparse Row format>\n"
     ]
    },
    {
     "name": "stderr",
     "output_type": "stream",
     "text": [
      "d:\\Study 2018 and later\\Mignimind Bootcamp\\Code\\P4-NLP-Tweet-Classification\\.venv\\lib\\site-packages\\sklearn\\cluster\\_kmeans.py:870: FutureWarning: The default value of `n_init` will change from 10 to 'auto' in 1.4. Set the value of `n_init` explicitly to suppress the warning\n",
      "  warnings.warn(\n"
     ]
    },
    {
     "name": "stdout",
     "output_type": "stream",
     "text": [
      "oversampled_X shape: (19500, 10130)\n",
      "oversampled_y shape: (19500,)\n",
      "oversampler_y value counts:\n",
      " 0    9750\n",
      "1    9750\n",
      "Name: IsBusiness, dtype: int64\n",
      "[(0, 9750), (1, 9750)]\n"
     ]
    }
   ],
   "source": [
    "# Loading X_train from the previous run\n",
    "X_train = save_load_obj('', r'1st run\\X_train-transformed.pkl', mode='load')\n",
    "print(f'X_train: {repr(X_train)}')\n",
    "\n",
    "from collections import Counter \n",
    "cc = ClusterCentroids(random_state=77)\n",
    "undersam_X_train, undersam_y_train = cc.fit_resample(X_train, y_train)\n",
    "\n",
    "save_load_obj(undersam_X_train, r'4th run - Undersample - ClusterCentroids\\undersam_X_train.pkl', mode='save')\n",
    "save_load_obj(undersam_y_train, r'4th run - Undersample - ClusterCentroids\\undersam_y_train.pkl', mode='save')\n",
    "\n",
    "print(f'oversampled_X shape: {undersam_X_train.shape}')\n",
    "print(f'oversampled_y shape: {undersam_y_train.shape}')\n",
    "print(f'oversampler_y value counts:\\n',undersam_y_train.value_counts())\n",
    "print(sorted(Counter(undersam_y_train).items()))"
   ]
  },
  {
   "cell_type": "code",
   "execution_count": 34,
   "metadata": {},
   "outputs": [
    {
     "name": "stdout",
     "output_type": "stream",
     "text": [
      "Best cross-validation score: 0.8010998669643417\n",
      "Best parameters: {'C': 1}\n"
     ]
    }
   ],
   "source": [
    "# GridSearchCV\n",
    "param_grid = {'C': [0.01, 0.1, 1, 10, 100]}\n",
    "grid = GridSearchCV(lg, param_grid, cv=5, scoring='f1') # Maybe change to accuracy as it is balanced now ?\n",
    "grid.fit(undersam_X_train, undersam_y_train)\n",
    "print(f'Best cross-validation score: {grid.best_score_}')\n",
    "print(f'Best parameters: {grid.best_params_}')"
   ]
  },
  {
   "cell_type": "code",
   "execution_count": 38,
   "metadata": {},
   "outputs": [
    {
     "name": "stdout",
     "output_type": "stream",
     "text": [
      "Base LogReg Prediction score: 83%\n"
     ]
    }
   ],
   "source": [
    "#---------------------------------------\n",
    "# Predicting on the test set\n",
    "X_test = vect_fitted.transform(X_test_text)\n",
    "score = int(round(grid.score(X_test, y_test), 2)*100)\n",
    "print(f'Base LogReg Prediction score: {score}%')"
   ]
  },
  {
   "cell_type": "code",
   "execution_count": 40,
   "metadata": {},
   "outputs": [],
   "source": [
    "save_load_obj(grid, rf'4th run - Undersample - ClusterCentroids\\LogReg-C-1-max_iter-500-F1-{score}%.pkl', mode='save')"
   ]
  },
  {
   "attachments": {},
   "cell_type": "markdown",
   "metadata": {},
   "source": [
    "### 5th Run\n",
    "* BalancedBaggingClassifier with sampling_strategy  \n",
    "This is one of the methods to deal with imbalanced data. It is a bagging classifier which uses balanced bootstrap to create new samples."
   ]
  },
  {
   "cell_type": "code",
   "execution_count": 41,
   "metadata": {},
   "outputs": [],
   "source": [
    "lg = LogisticRegression(max_iter=500, n_jobs=-1)\n",
    "vect_fitted = save_load_obj('', r'1st run\\TfidfVect-X_train-fit-mindf-5-maxdf-02-ngram-2.pkl', mode='load')"
   ]
  },
  {
   "cell_type": "code",
   "execution_count": 42,
   "metadata": {},
   "outputs": [
    {
     "name": "stdout",
     "output_type": "stream",
     "text": [
      "X_train: <24019x10130 sparse matrix of type '<class 'numpy.float64'>'\n",
      "\twith 242922 stored elements in Compressed Sparse Row format>\n"
     ]
    },
    {
     "name": "stderr",
     "output_type": "stream",
     "text": [
      "d:\\Study 2018 and later\\Mignimind Bootcamp\\Code\\P4-NLP-Tweet-Classification\\.venv\\lib\\site-packages\\imblearn\\ensemble\\_bagging.py:353: FutureWarning: `base_estimator` was renamed to `estimator` in version 0.10 and will be removed in 0.12.\n",
      "  warnings.warn(\n"
     ]
    },
    {
     "name": "stdout",
     "output_type": "stream",
     "text": [
      "Base LogReg Prediction score: 81%\n"
     ]
    }
   ],
   "source": [
    "# Loading X_train from the previous run\n",
    "X_train = save_load_obj('', r'1st run\\X_train-transformed.pkl', mode='load')\n",
    "print(f'X_train: {repr(X_train)}')\n",
    "\n",
    "bbc = BalancedBaggingClassifier(base_estimator=lg,\n",
    "                                sampling_strategy='not majority', # upsample the minority class\n",
    "                                replacement=False, \n",
    "                                random_state=77)\n",
    "bbc.fit(X_train, y_train)\n",
    "#---------------------------------------\n",
    "# Predicting on the test set\n",
    "X_test = vect_fitted.transform(X_test_text)\n",
    "score = int(round(bbc.score(X_test, y_test), 2)*100)\n",
    "print(f'Base LogReg Prediction score: {score}%')\n"
   ]
  },
  {
   "cell_type": "code",
   "execution_count": 44,
   "metadata": {},
   "outputs": [],
   "source": [
    "save_load_obj(bbc, rf'5th run - BalancedBaggingClassifier\\BBC-sampling_str-not-majority-F1-{score}%.pkl', mode='save')"
   ]
  },
  {
   "attachments": {},
   "cell_type": "markdown",
   "metadata": {},
   "source": [
    "* Seems like the best result we had with StratifiedKFold, so we try to tune the different models with GridSearchCV using StratifiedKFold as our CV."
   ]
  },
  {
   "attachments": {},
   "cell_type": "markdown",
   "metadata": {},
   "source": [
    "### 6th Run\n",
    "* DecisionTreeClassifier with StratifiedKFold and GridSearchCV  \n",
    "I wll try DecisionTreeClassifier as it is simple and quick model. If any good results come out of it, we can easily explain the model."
   ]
  },
  {
   "cell_type": "code",
   "execution_count": 45,
   "metadata": {},
   "outputs": [
    {
     "name": "stdout",
     "output_type": "stream",
     "text": [
      "Cross-Validation F1 Scores: [0.7872191  0.78423237 0.79264731 0.78219895 0.79362329 0.78835425\n",
      " 0.80338924 0.79354055 0.78780488 0.78938237 0.7849556  0.79091703\n",
      " 0.79166667 0.79447853 0.78940993 0.79481417 0.78268489 0.79384296\n",
      " 0.78319736 0.78133193]\n"
     ]
    }
   ],
   "source": [
    "cv = RepeatedStratifiedKFold(n_splits=5, n_repeats=4, random_state=777) # Creating a cross-validation object to account for class imbalance.\n",
    "dtc = DecisionTreeClassifier(random_state=77)\n",
    "scores = cross_val_score(dtc, X_train, y_train, cv=cv, scoring='f1') # Picking F1 score as it is not balanced dataset.\n",
    "print(f'Cross-Validation F1 Scores: {scores}')"
   ]
  },
  {
   "cell_type": "code",
   "execution_count": 46,
   "metadata": {},
   "outputs": [
    {
     "name": "stdout",
     "output_type": "stream",
     "text": [
      "Best cross-validation score: 0.7569765045551312\n",
      "Best parameters: {'criterion': 'gini', 'max_depth': 13}\n"
     ]
    }
   ],
   "source": [
    "param_grid = {'max_depth': [1, 2, 3, 4, 5, 6, 7, 8, 9, 10, 11, 12, 13, 14, 15],\n",
    "              'criterion': ['gini', 'entropy']}\n",
    "grid = GridSearchCV(dtc, param_grid, cv=cv, scoring='f1')\n",
    "grid.fit(X_train, y_train)\n",
    "print(f'Best cross-validation score: {grid.best_score_}')\n",
    "print(f'Best parameters: {grid.best_params_}')\n"
   ]
  },
  {
   "cell_type": "code",
   "execution_count": 49,
   "metadata": {},
   "outputs": [
    {
     "name": "stdout",
     "output_type": "stream",
     "text": [
      "Base Decision Tree Classifier Prediction score: 76%\n"
     ]
    }
   ],
   "source": [
    "# Predicting on the test set\n",
    "X_test = vect_fitted.transform(X_test_text)\n",
    "score = int(round(grid.score(X_test, y_test), 2)*100)\n",
    "print(f'Base Decision Tree Classifier Prediction score: {score}%')"
   ]
  },
  {
   "attachments": {},
   "cell_type": "markdown",
   "metadata": {},
   "source": [
    "* I'm not going to even save it. "
   ]
  },
  {
   "attachments": {},
   "cell_type": "markdown",
   "metadata": {},
   "source": [
    "### 7th Run\n",
    "* XGBClassifier with StratifiedKFold and GridSearchCV"
   ]
  },
  {
   "cell_type": "code",
   "execution_count": 55,
   "metadata": {},
   "outputs": [
    {
     "name": "stdout",
     "output_type": "stream",
     "text": [
      "Cross-Validation F1 Scores: [0.80372493 0.80620715 0.80816832 0.80886427 0.8019943  0.80769231\n",
      " 0.8057598  0.79202899 0.79681851 0.80656674]\n"
     ]
    }
   ],
   "source": [
    "cv = RepeatedStratifiedKFold(n_splits=5, n_repeats=4, random_state=777) # Creating a cross-validation object to account for class imbalance.\n",
    "xgb_model = xgb.XGBClassifier()\n",
    "\n",
    "scores = cross_val_score(xgb_model, X_train, y_train, cv=cv, scoring='f1') \n",
    "print(f'Cross-Validation F1 Scores: {scores}')"
   ]
  },
  {
   "cell_type": "code",
   "execution_count": 56,
   "metadata": {},
   "outputs": [],
   "source": [
    "# https://www.kaggle.com/code/phunter/xgboost-with-gridsearchcv\n",
    "param_grid = {'learning_rate': [0.01, 0.1, 0.3, 0.5],\n",
    "                'max_depth': [2, 3, 4, 5, 6, 7, 8, 9, 10],\n",
    "                'min_child_weight': [1, 2, 3, 4, 5],\n",
    "                'n_estimators': [5, 50, 250, 500, 1000]\n",
    "}\n",
    "xgb_model = xgb.XGBClassifier(nthread=4, objective='binary:logistic', verbosity=1, subsample=0.8, seed=77)\n",
    "grid = GridSearchCV(xgb_model, param_grid, cv=cv, scoring='f1')\n",
    "grid.fit(X_train, y_train)\n",
    "print(f'Best cross-validation score: {grid.best_score_}')\n",
    "print(f'Best parameters: {grid.best_params_}')\n",
    "\n",
    "#trust your CV!\n",
    "best_parameters, score, _ = max(xgb_model.grid_scores_, key=lambda x: x[1])\n",
    "print('Raw AUC score:', score)\n",
    "for param_name in sorted(best_parameters.keys()):\n",
    "    print(\"%s: %r\" % (param_name, best_parameters[param_name]))"
   ]
  },
  {
   "cell_type": "code",
   "execution_count": null,
   "metadata": {},
   "outputs": [],
   "source": [
    "# Predicting on the test set\n",
    "X_test = vect_fitted.transform(X_test_text)\n",
    "score = grid.score(X_test, y_test)  #int(round(grid.score(X_test, y_test), 2)*100)\n",
    "print(f'Base Decision Tree Classifier Prediction score: {score}%')"
   ]
  }
 ],
 "metadata": {
  "kernelspec": {
   "display_name": ".venv",
   "language": "python",
   "name": "python3"
  },
  "language_info": {
   "codemirror_mode": {
    "name": "ipython",
    "version": 3
   },
   "file_extension": ".py",
   "mimetype": "text/x-python",
   "name": "python",
   "nbconvert_exporter": "python",
   "pygments_lexer": "ipython3",
   "version": "3.9.2"
  },
  "orig_nbformat": 4,
  "vscode": {
   "interpreter": {
    "hash": "9d18874cd3773cfd573a514287f61a1082a06a599e2b06271f81ffa5d73d1385"
   }
  }
 },
 "nbformat": 4,
 "nbformat_minor": 2
}
