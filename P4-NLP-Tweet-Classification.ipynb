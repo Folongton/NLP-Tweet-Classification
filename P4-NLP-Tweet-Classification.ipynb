{
 "cells": [
  {
   "cell_type": "code",
   "execution_count": 73,
   "metadata": {},
   "outputs": [],
   "source": [
    "import pandas as pd\n",
    "import numpy as np\n",
    "pd.set_option('display.max_colwidth', 500)\n",
    "\n",
    "import matplotlib.pyplot as plt\n",
    "import seaborn as sns\n",
    "%matplotlib inline"
   ]
  },
  {
   "cell_type": "code",
   "execution_count": 40,
   "metadata": {},
   "outputs": [],
   "source": [
    "df = pd.read_csv(r'data/tweet_data.csv')"
   ]
  },
  {
   "cell_type": "code",
   "execution_count": 41,
   "metadata": {},
   "outputs": [
    {
     "name": "stdout",
     "output_type": "stream",
     "text": [
      "(785916, 18)\n",
      "Index(['tweetID', 'crDate', 'edInput', 'editor', 'engages', 'isApproved',\n",
      "       'isEdNeed', 'isRT', 'likes', 'photoUrl', 'retweets', 'rtUsID', 'text',\n",
      "       'topicName', 'usFlwrs', 'usID', 'usName', 'videoUrl'],\n",
      "      dtype='object')\n"
     ]
    },
    {
     "data": {
      "text/html": [
       "<div>\n",
       "<style scoped>\n",
       "    .dataframe tbody tr th:only-of-type {\n",
       "        vertical-align: middle;\n",
       "    }\n",
       "\n",
       "    .dataframe tbody tr th {\n",
       "        vertical-align: top;\n",
       "    }\n",
       "\n",
       "    .dataframe thead th {\n",
       "        text-align: right;\n",
       "    }\n",
       "</style>\n",
       "<table border=\"1\" class=\"dataframe\">\n",
       "  <thead>\n",
       "    <tr style=\"text-align: right;\">\n",
       "      <th></th>\n",
       "      <th>tweetID</th>\n",
       "      <th>crDate</th>\n",
       "      <th>edInput</th>\n",
       "      <th>editor</th>\n",
       "      <th>engages</th>\n",
       "      <th>isApproved</th>\n",
       "      <th>isEdNeed</th>\n",
       "      <th>isRT</th>\n",
       "      <th>likes</th>\n",
       "      <th>photoUrl</th>\n",
       "      <th>retweets</th>\n",
       "      <th>rtUsID</th>\n",
       "      <th>text</th>\n",
       "      <th>topicName</th>\n",
       "      <th>usFlwrs</th>\n",
       "      <th>usID</th>\n",
       "      <th>usName</th>\n",
       "      <th>videoUrl</th>\n",
       "    </tr>\n",
       "  </thead>\n",
       "  <tbody>\n",
       "    <tr>\n",
       "      <th>0</th>\n",
       "      <td>1070867471245164544</td>\n",
       "      <td>2018-12-07 02:27:55</td>\n",
       "      <td>-1</td>\n",
       "      <td>-1</td>\n",
       "      <td>98</td>\n",
       "      <td>False</td>\n",
       "      <td>True</td>\n",
       "      <td>False</td>\n",
       "      <td>64</td>\n",
       "      <td>https://pbs.twimg.com/media/Dtx8SiIWkAImVsb.jpg</td>\n",
       "      <td>34</td>\n",
       "      <td>-1</td>\n",
       "      <td>The immediate impulse for an alliance of the EU's northern states is Brexit https://t.co/nlhUD36hay https://t.co/shwMWpjjuK</td>\n",
       "      <td>Business</td>\n",
       "      <td>23464532</td>\n",
       "      <td>5988062</td>\n",
       "      <td>The Economist</td>\n",
       "      <td>NaN</td>\n",
       "    </tr>\n",
       "    <tr>\n",
       "      <th>1</th>\n",
       "      <td>1070868017888837633</td>\n",
       "      <td>2018-12-07 02:30:05</td>\n",
       "      <td>-1</td>\n",
       "      <td>-1</td>\n",
       "      <td>13</td>\n",
       "      <td>False</td>\n",
       "      <td>True</td>\n",
       "      <td>False</td>\n",
       "      <td>10</td>\n",
       "      <td>https://pbs.twimg.com/media/Dtx8yTyW4AEciqP.jpg</td>\n",
       "      <td>3</td>\n",
       "      <td>-1</td>\n",
       "      <td>America's economy is flashing some warning signs, but -- for now -- the labor market appears to be going strong https://t.co/xvCPgtqMzy https://t.co/0sQdzAsME3</td>\n",
       "      <td>Business</td>\n",
       "      <td>1732809</td>\n",
       "      <td>16184358</td>\n",
       "      <td>CNN Business</td>\n",
       "      <td>NaN</td>\n",
       "    </tr>\n",
       "  </tbody>\n",
       "</table>\n",
       "</div>"
      ],
      "text/plain": [
       "               tweetID               crDate  edInput  editor  engages  \\\n",
       "0  1070867471245164544  2018-12-07 02:27:55       -1      -1       98   \n",
       "1  1070868017888837633  2018-12-07 02:30:05       -1      -1       13   \n",
       "\n",
       "   isApproved  isEdNeed   isRT  likes  \\\n",
       "0       False      True  False     64   \n",
       "1       False      True  False     10   \n",
       "\n",
       "                                          photoUrl  retweets  rtUsID  \\\n",
       "0  https://pbs.twimg.com/media/Dtx8SiIWkAImVsb.jpg        34      -1   \n",
       "1  https://pbs.twimg.com/media/Dtx8yTyW4AEciqP.jpg         3      -1   \n",
       "\n",
       "                                                                                                                                                              text  \\\n",
       "0                                      The immediate impulse for an alliance of the EU's northern states is Brexit https://t.co/nlhUD36hay https://t.co/shwMWpjjuK   \n",
       "1  America's economy is flashing some warning signs, but -- for now -- the labor market appears to be going strong https://t.co/xvCPgtqMzy https://t.co/0sQdzAsME3   \n",
       "\n",
       "  topicName   usFlwrs      usID         usName videoUrl  \n",
       "0  Business  23464532   5988062  The Economist      NaN  \n",
       "1  Business   1732809  16184358   CNN Business      NaN  "
      ]
     },
     "execution_count": 41,
     "metadata": {},
     "output_type": "execute_result"
    }
   ],
   "source": [
    "print(df.shape)\n",
    "print(df.columns)\n",
    "df.head(2)"
   ]
  },
  {
   "attachments": {},
   "cell_type": "markdown",
   "metadata": {},
   "source": [
    "* After observation of the data, we can see :\n",
    "1. Columns which are definitelly not be used: crDate, engages, likes, photoUrl, retweets, usFlwrs, rtUsID, usID, videoUrl - will be dropped.\n",
    "2. Columns which will be definitelly used: tweetID(for indexing purposes), edInput(Label), text, topicName\n",
    "3. Columns which need more analysis: editor, isApproved, isEdNeed, isRT"
   ]
  },
  {
   "cell_type": "code",
   "execution_count": 42,
   "metadata": {},
   "outputs": [],
   "source": [
    "df = df[['tweetID', 'edInput', 'editor', 'isApproved',\n",
    "       'isEdNeed', 'isRT', 'text',\n",
    "       'topicName', 'usName', ]]"
   ]
  },
  {
   "cell_type": "code",
   "execution_count": 43,
   "metadata": {},
   "outputs": [
    {
     "data": {
      "text/html": [
       "<div>\n",
       "<style scoped>\n",
       "    .dataframe tbody tr th:only-of-type {\n",
       "        vertical-align: middle;\n",
       "    }\n",
       "\n",
       "    .dataframe tbody tr th {\n",
       "        vertical-align: top;\n",
       "    }\n",
       "\n",
       "    .dataframe thead th {\n",
       "        text-align: right;\n",
       "    }\n",
       "</style>\n",
       "<table border=\"1\" class=\"dataframe\">\n",
       "  <thead>\n",
       "    <tr style=\"text-align: right;\">\n",
       "      <th></th>\n",
       "      <th>tweetID</th>\n",
       "      <th>edInput</th>\n",
       "      <th>editor</th>\n",
       "      <th>isApproved</th>\n",
       "      <th>isEdNeed</th>\n",
       "      <th>isRT</th>\n",
       "      <th>text</th>\n",
       "      <th>topicName</th>\n",
       "      <th>usName</th>\n",
       "    </tr>\n",
       "  </thead>\n",
       "  <tbody>\n",
       "    <tr>\n",
       "      <th>0</th>\n",
       "      <td>1070867471245164544</td>\n",
       "      <td>-1</td>\n",
       "      <td>-1</td>\n",
       "      <td>False</td>\n",
       "      <td>True</td>\n",
       "      <td>False</td>\n",
       "      <td>The immediate impulse for an alliance of the EU's northern states is Brexit https://t.co/nlhUD36hay https://t.co/shwMWpjjuK</td>\n",
       "      <td>Business</td>\n",
       "      <td>The Economist</td>\n",
       "    </tr>\n",
       "    <tr>\n",
       "      <th>1</th>\n",
       "      <td>1070868017888837633</td>\n",
       "      <td>-1</td>\n",
       "      <td>-1</td>\n",
       "      <td>False</td>\n",
       "      <td>True</td>\n",
       "      <td>False</td>\n",
       "      <td>America's economy is flashing some warning signs, but -- for now -- the labor market appears to be going strong https://t.co/xvCPgtqMzy https://t.co/0sQdzAsME3</td>\n",
       "      <td>Business</td>\n",
       "      <td>CNN Business</td>\n",
       "    </tr>\n",
       "    <tr>\n",
       "      <th>2</th>\n",
       "      <td>1070868012864028673</td>\n",
       "      <td>-1</td>\n",
       "      <td>-1</td>\n",
       "      <td>False</td>\n",
       "      <td>True</td>\n",
       "      <td>False</td>\n",
       "      <td>Lyft files for what is expected to be one of the hottest IPOs in 2019 https://t.co/qEjyniazlD</td>\n",
       "      <td>Business</td>\n",
       "      <td>FORTUNE</td>\n",
       "    </tr>\n",
       "    <tr>\n",
       "      <th>3</th>\n",
       "      <td>1070867995239555075</td>\n",
       "      <td>-1</td>\n",
       "      <td>-1</td>\n",
       "      <td>False</td>\n",
       "      <td>True</td>\n",
       "      <td>False</td>\n",
       "      <td>Exporters still waiting to get Rs 6,000 crore worth of input tax credit refunds\\n\\nMany being denied tax refunds by state governments, such as Andhra Pradesh, Uttar Pradesh, Bihar and Chhattisgarh, who say they are cash starved\\n\\n@Subhayan_ism @GST_Council\\n\\nhttps://t.co/QRBg8b98Rr</td>\n",
       "      <td>Business</td>\n",
       "      <td>Business Standard</td>\n",
       "    </tr>\n",
       "    <tr>\n",
       "      <th>4</th>\n",
       "      <td>1070867995205885952</td>\n",
       "      <td>-1</td>\n",
       "      <td>-1</td>\n",
       "      <td>False</td>\n",
       "      <td>True</td>\n",
       "      <td>False</td>\n",
       "      <td>Ride-hailing firm Lyft races to leave Uber behind in IPO chase https://t.co/0qCsdx2LYS https://t.co/gHZLUntYkL</td>\n",
       "      <td>Business</td>\n",
       "      <td>Reuters Business</td>\n",
       "    </tr>\n",
       "    <tr>\n",
       "      <th>...</th>\n",
       "      <td>...</td>\n",
       "      <td>...</td>\n",
       "      <td>...</td>\n",
       "      <td>...</td>\n",
       "      <td>...</td>\n",
       "      <td>...</td>\n",
       "      <td>...</td>\n",
       "      <td>...</td>\n",
       "      <td>...</td>\n",
       "    </tr>\n",
       "    <tr>\n",
       "      <th>785911</th>\n",
       "      <td>1147325851614117888</td>\n",
       "      <td>-1</td>\n",
       "      <td>-1</td>\n",
       "      <td>False</td>\n",
       "      <td>True</td>\n",
       "      <td>True</td>\n",
       "      <td>Relations are DIFFERENT\\nnot DIFFICULT.</td>\n",
       "      <td>Motivational</td>\n",
       "      <td>Wit &amp; Wisdom 💯</td>\n",
       "    </tr>\n",
       "    <tr>\n",
       "      <th>785912</th>\n",
       "      <td>1153184058714624001</td>\n",
       "      <td>-1</td>\n",
       "      <td>-1</td>\n",
       "      <td>False</td>\n",
       "      <td>True</td>\n",
       "      <td>True</td>\n",
       "      <td>\"to live a creative life, we must lose our fear of being wrong\"......... https://t.co/LF0e0xV5Q7</td>\n",
       "      <td>Interesting</td>\n",
       "      <td>DeepFeling™</td>\n",
       "    </tr>\n",
       "    <tr>\n",
       "      <th>785913</th>\n",
       "      <td>1153048802116292608</td>\n",
       "      <td>-1</td>\n",
       "      <td>-1</td>\n",
       "      <td>False</td>\n",
       "      <td>True</td>\n",
       "      <td>True</td>\n",
       "      <td>Who's your comic crush? https://t.co/H29dhXw3kf</td>\n",
       "      <td>Memes</td>\n",
       "      <td>Twitter Movies</td>\n",
       "    </tr>\n",
       "    <tr>\n",
       "      <th>785914</th>\n",
       "      <td>1154063052997836801</td>\n",
       "      <td>-1</td>\n",
       "      <td>-1</td>\n",
       "      <td>True</td>\n",
       "      <td>True</td>\n",
       "      <td>False</td>\n",
       "      <td>After a flight of 195 hours, 18 minutes, 35 seconds - the #Apollo11 crew splashed down in the North Pacific Ocean, 900 miles southwest of Hawaii! Here’s a photo of their recovery as we celebrate the #Apollo50th anniversary: https://t.co/Y4zhGTQlPj https://t.co/fBpvcECsjp</td>\n",
       "      <td>Random</td>\n",
       "      <td>NASA</td>\n",
       "    </tr>\n",
       "    <tr>\n",
       "      <th>785915</th>\n",
       "      <td>1073723027718688768</td>\n",
       "      <td>-1</td>\n",
       "      <td>-1</td>\n",
       "      <td>False</td>\n",
       "      <td>True</td>\n",
       "      <td>True</td>\n",
       "      <td>Scarface's Action Figure Tony Montana cutting open a pack of Flour on a kitchen table\\n(by artist VSE OK) https://t.co/vOqvOh7EFn</td>\n",
       "      <td>Photography</td>\n",
       "      <td>41 Strange</td>\n",
       "    </tr>\n",
       "  </tbody>\n",
       "</table>\n",
       "<p>785916 rows × 9 columns</p>\n",
       "</div>"
      ],
      "text/plain": [
       "                    tweetID  edInput  editor  isApproved  isEdNeed   isRT  \\\n",
       "0       1070867471245164544       -1      -1       False      True  False   \n",
       "1       1070868017888837633       -1      -1       False      True  False   \n",
       "2       1070868012864028673       -1      -1       False      True  False   \n",
       "3       1070867995239555075       -1      -1       False      True  False   \n",
       "4       1070867995205885952       -1      -1       False      True  False   \n",
       "...                     ...      ...     ...         ...       ...    ...   \n",
       "785911  1147325851614117888       -1      -1       False      True   True   \n",
       "785912  1153184058714624001       -1      -1       False      True   True   \n",
       "785913  1153048802116292608       -1      -1       False      True   True   \n",
       "785914  1154063052997836801       -1      -1        True      True  False   \n",
       "785915  1073723027718688768       -1      -1       False      True   True   \n",
       "\n",
       "                                                                                                                                                                                                                                                                                                text  \\\n",
       "0                                                                                                                                                                        The immediate impulse for an alliance of the EU's northern states is Brexit https://t.co/nlhUD36hay https://t.co/shwMWpjjuK   \n",
       "1                                                                                                                                    America's economy is flashing some warning signs, but -- for now -- the labor market appears to be going strong https://t.co/xvCPgtqMzy https://t.co/0sQdzAsME3   \n",
       "2                                                                                                                                                                                                      Lyft files for what is expected to be one of the hottest IPOs in 2019 https://t.co/qEjyniazlD   \n",
       "3       Exporters still waiting to get Rs 6,000 crore worth of input tax credit refunds\\n\\nMany being denied tax refunds by state governments, such as Andhra Pradesh, Uttar Pradesh, Bihar and Chhattisgarh, who say they are cash starved\\n\\n@Subhayan_ism @GST_Council\\n\\nhttps://t.co/QRBg8b98Rr   \n",
       "4                                                                                                                                                                                     Ride-hailing firm Lyft races to leave Uber behind in IPO chase https://t.co/0qCsdx2LYS https://t.co/gHZLUntYkL   \n",
       "...                                                                                                                                                                                                                                                                                              ...   \n",
       "785911                                                                                                                                                                                                                                                       Relations are DIFFERENT\\nnot DIFFICULT.   \n",
       "785912                                                                                                                                                                                              \"to live a creative life, we must lose our fear of being wrong\"......... https://t.co/LF0e0xV5Q7   \n",
       "785913                                                                                                                                                                                                                                               Who's your comic crush? https://t.co/H29dhXw3kf   \n",
       "785914               After a flight of 195 hours, 18 minutes, 35 seconds - the #Apollo11 crew splashed down in the North Pacific Ocean, 900 miles southwest of Hawaii! Here’s a photo of their recovery as we celebrate the #Apollo50th anniversary: https://t.co/Y4zhGTQlPj https://t.co/fBpvcECsjp   \n",
       "785915                                                                                                                                                             Scarface's Action Figure Tony Montana cutting open a pack of Flour on a kitchen table\\n(by artist VSE OK) https://t.co/vOqvOh7EFn   \n",
       "\n",
       "           topicName             usName  \n",
       "0           Business      The Economist  \n",
       "1           Business       CNN Business  \n",
       "2           Business            FORTUNE  \n",
       "3           Business  Business Standard  \n",
       "4           Business   Reuters Business  \n",
       "...              ...                ...  \n",
       "785911  Motivational     Wit & Wisdom 💯  \n",
       "785912   Interesting        DeepFeling™  \n",
       "785913         Memes     Twitter Movies  \n",
       "785914        Random               NASA  \n",
       "785915   Photography         41 Strange  \n",
       "\n",
       "[785916 rows x 9 columns]"
      ]
     },
     "execution_count": 43,
     "metadata": {},
     "output_type": "execute_result"
    }
   ],
   "source": [
    "df"
   ]
  },
  {
   "cell_type": "code",
   "execution_count": 44,
   "metadata": {},
   "outputs": [
    {
     "name": "stdout",
     "output_type": "stream",
     "text": [
      "<class 'pandas.core.frame.DataFrame'>\n",
      "RangeIndex: 785916 entries, 0 to 785915\n",
      "Data columns (total 9 columns):\n",
      " #   Column      Non-Null Count   Dtype \n",
      "---  ------      --------------   ----- \n",
      " 0   tweetID     785916 non-null  int64 \n",
      " 1   edInput     785916 non-null  int64 \n",
      " 2   editor      785916 non-null  int64 \n",
      " 3   isApproved  785916 non-null  bool  \n",
      " 4   isEdNeed    785916 non-null  bool  \n",
      " 5   isRT        785916 non-null  bool  \n",
      " 6   text        785916 non-null  object\n",
      " 7   topicName   785916 non-null  object\n",
      " 8   usName      785916 non-null  object\n",
      "dtypes: bool(3), int64(3), object(3)\n",
      "memory usage: 38.2+ MB\n"
     ]
    }
   ],
   "source": [
    "df.info()"
   ]
  },
  {
   "cell_type": "code",
   "execution_count": 45,
   "metadata": {},
   "outputs": [
    {
     "data": {
      "text/plain": [
       "-1    422665\n",
       " 1    215577\n",
       " 2    106741\n",
       " 4     32733\n",
       " 3      8200\n",
       "Name: edInput, dtype: int64"
      ]
     },
     "execution_count": 45,
     "metadata": {},
     "output_type": "execute_result"
    }
   ],
   "source": [
    "df['edInput'].value_counts()"
   ]
  },
  {
   "cell_type": "code",
   "execution_count": 46,
   "metadata": {},
   "outputs": [
    {
     "data": {
      "text/plain": [
       "-1       422665\n",
       " 5004     68536\n",
       " 5003     68186\n",
       " 5002     59317\n",
       " 5001     52629\n",
       " 5006     40658\n",
       " 5007     27722\n",
       " 5005     24934\n",
       " 5008     21167\n",
       " 5101        44\n",
       " 1001        36\n",
       " 2001        22\n",
       "Name: editor, dtype: int64"
      ]
     },
     "execution_count": 46,
     "metadata": {},
     "output_type": "execute_result"
    }
   ],
   "source": [
    "df['editor'].value_counts()"
   ]
  },
  {
   "cell_type": "code",
   "execution_count": 47,
   "metadata": {},
   "outputs": [
    {
     "data": {
      "text/plain": [
       "True    785916\n",
       "Name: isEdNeed, dtype: int64"
      ]
     },
     "execution_count": 47,
     "metadata": {},
     "output_type": "execute_result"
    }
   ],
   "source": [
    "df['isEdNeed'].value_counts()"
   ]
  },
  {
   "attachments": {},
   "cell_type": "markdown",
   "metadata": {},
   "source": [
    "* Dropping 'isEdNeed' as it is the same values for all the rows. Dropping 'editor' as this seems to be an editor IDs."
   ]
  },
  {
   "cell_type": "code",
   "execution_count": 48,
   "metadata": {},
   "outputs": [],
   "source": [
    "df = df.drop(columns=['isEdNeed','editor'])"
   ]
  },
  {
   "attachments": {},
   "cell_type": "markdown",
   "metadata": {},
   "source": [
    "* we can drop rows with 'edinput' other than -1,1,2 as we don't know what they mean and more client communication needed to understand them."
   ]
  },
  {
   "cell_type": "code",
   "execution_count": 49,
   "metadata": {},
   "outputs": [],
   "source": [
    "df = df[df['edInput'].isin([-1,1,2])]\n",
    "df = df.set_index('tweetID', drop=True)"
   ]
  },
  {
   "cell_type": "code",
   "execution_count": 50,
   "metadata": {},
   "outputs": [
    {
     "name": "stdout",
     "output_type": "stream",
     "text": [
      "(744983, 6)\n"
     ]
    },
    {
     "data": {
      "text/html": [
       "<div>\n",
       "<style scoped>\n",
       "    .dataframe tbody tr th:only-of-type {\n",
       "        vertical-align: middle;\n",
       "    }\n",
       "\n",
       "    .dataframe tbody tr th {\n",
       "        vertical-align: top;\n",
       "    }\n",
       "\n",
       "    .dataframe thead th {\n",
       "        text-align: right;\n",
       "    }\n",
       "</style>\n",
       "<table border=\"1\" class=\"dataframe\">\n",
       "  <thead>\n",
       "    <tr style=\"text-align: right;\">\n",
       "      <th></th>\n",
       "      <th>edInput</th>\n",
       "      <th>isApproved</th>\n",
       "      <th>isRT</th>\n",
       "      <th>text</th>\n",
       "      <th>topicName</th>\n",
       "      <th>usName</th>\n",
       "    </tr>\n",
       "    <tr>\n",
       "      <th>tweetID</th>\n",
       "      <th></th>\n",
       "      <th></th>\n",
       "      <th></th>\n",
       "      <th></th>\n",
       "      <th></th>\n",
       "      <th></th>\n",
       "    </tr>\n",
       "  </thead>\n",
       "  <tbody>\n",
       "    <tr>\n",
       "      <th>1070867471245164544</th>\n",
       "      <td>-1</td>\n",
       "      <td>False</td>\n",
       "      <td>False</td>\n",
       "      <td>The immediate impulse for an alliance of the EU's northern states is Brexit https://t.co/nlhUD36hay https://t.co/shwMWpjjuK</td>\n",
       "      <td>Business</td>\n",
       "      <td>The Economist</td>\n",
       "    </tr>\n",
       "    <tr>\n",
       "      <th>1070868017888837633</th>\n",
       "      <td>-1</td>\n",
       "      <td>False</td>\n",
       "      <td>False</td>\n",
       "      <td>America's economy is flashing some warning signs, but -- for now -- the labor market appears to be going strong https://t.co/xvCPgtqMzy https://t.co/0sQdzAsME3</td>\n",
       "      <td>Business</td>\n",
       "      <td>CNN Business</td>\n",
       "    </tr>\n",
       "  </tbody>\n",
       "</table>\n",
       "</div>"
      ],
      "text/plain": [
       "                     edInput  isApproved   isRT  \\\n",
       "tweetID                                           \n",
       "1070867471245164544       -1       False  False   \n",
       "1070868017888837633       -1       False  False   \n",
       "\n",
       "                                                                                                                                                                                text  \\\n",
       "tweetID                                                                                                                                                                                \n",
       "1070867471245164544                                      The immediate impulse for an alliance of the EU's northern states is Brexit https://t.co/nlhUD36hay https://t.co/shwMWpjjuK   \n",
       "1070868017888837633  America's economy is flashing some warning signs, but -- for now -- the labor market appears to be going strong https://t.co/xvCPgtqMzy https://t.co/0sQdzAsME3   \n",
       "\n",
       "                    topicName         usName  \n",
       "tweetID                                       \n",
       "1070867471245164544  Business  The Economist  \n",
       "1070868017888837633  Business   CNN Business  "
      ]
     },
     "execution_count": 50,
     "metadata": {},
     "output_type": "execute_result"
    }
   ],
   "source": [
    "print(df.shape)\n",
    "df.head(2)"
   ]
  },
  {
   "attachments": {},
   "cell_type": "markdown",
   "metadata": {},
   "source": [
    "* Let's run correlation matrix to see if we not missing anything before dropping IsApproved and isRT."
   ]
  },
  {
   "cell_type": "code",
   "execution_count": 51,
   "metadata": {},
   "outputs": [
    {
     "data": {
      "text/html": [
       "<div>\n",
       "<style scoped>\n",
       "    .dataframe tbody tr th:only-of-type {\n",
       "        vertical-align: middle;\n",
       "    }\n",
       "\n",
       "    .dataframe tbody tr th {\n",
       "        vertical-align: top;\n",
       "    }\n",
       "\n",
       "    .dataframe thead th {\n",
       "        text-align: right;\n",
       "    }\n",
       "</style>\n",
       "<table border=\"1\" class=\"dataframe\">\n",
       "  <thead>\n",
       "    <tr style=\"text-align: right;\">\n",
       "      <th></th>\n",
       "      <th>edInput</th>\n",
       "      <th>isApproved</th>\n",
       "      <th>isRT</th>\n",
       "    </tr>\n",
       "  </thead>\n",
       "  <tbody>\n",
       "    <tr>\n",
       "      <th>edInput</th>\n",
       "      <td>1.000000</td>\n",
       "      <td>-1.000000</td>\n",
       "      <td>0.246425</td>\n",
       "    </tr>\n",
       "    <tr>\n",
       "      <th>isApproved</th>\n",
       "      <td>-1.000000</td>\n",
       "      <td>1.000000</td>\n",
       "      <td>-0.246425</td>\n",
       "    </tr>\n",
       "    <tr>\n",
       "      <th>isRT</th>\n",
       "      <td>0.246425</td>\n",
       "      <td>-0.246425</td>\n",
       "      <td>1.000000</td>\n",
       "    </tr>\n",
       "  </tbody>\n",
       "</table>\n",
       "</div>"
      ],
      "text/plain": [
       "             edInput  isApproved      isRT\n",
       "edInput     1.000000   -1.000000  0.246425\n",
       "isApproved -1.000000    1.000000 -0.246425\n",
       "isRT        0.246425   -0.246425  1.000000"
      ]
     },
     "execution_count": 51,
     "metadata": {},
     "output_type": "execute_result"
    }
   ],
   "source": [
    "df[df['edInput']!=-1][['edInput','isApproved','isRT']].corr()"
   ]
  },
  {
   "attachments": {},
   "cell_type": "markdown",
   "metadata": {},
   "source": [
    "* As we see from the correlation matrix, we can drop 'isApproved' as it is the same as our label.\n",
    "* isRT column - after quick google search it seems that it is a boolean column which indicates if the tweet is a retweet or not. We can remove it.\n",
    "* We also split the data into labeled and not yet labeled data. We need labeled data in order to train our model. I'll keep our unlabeled data to use it later for predictions on the \"real world\" data."
   ]
  },
  {
   "cell_type": "code",
   "execution_count": 52,
   "metadata": {},
   "outputs": [],
   "source": [
    "df = df.drop(columns=['isApproved','isRT'])"
   ]
  },
  {
   "cell_type": "code",
   "execution_count": 53,
   "metadata": {},
   "outputs": [],
   "source": [
    "df_unlabeled = df[df['edInput']==-1]\n",
    "df = df[df['edInput']!=-1]"
   ]
  },
  {
   "cell_type": "code",
   "execution_count": 54,
   "metadata": {},
   "outputs": [
    {
     "name": "stdout",
     "output_type": "stream",
     "text": [
      "(422665, 4)\n",
      "(322318, 4)\n"
     ]
    }
   ],
   "source": [
    "print(df_unlabeled.shape)\n",
    "print(df.shape)"
   ]
  },
  {
   "cell_type": "code",
   "execution_count": 56,
   "metadata": {},
   "outputs": [
    {
     "data": {
      "text/plain": [
       "Index(['edInput', 'text', 'topicName', 'usName'], dtype='object')"
      ]
     },
     "execution_count": 56,
     "metadata": {},
     "output_type": "execute_result"
    }
   ],
   "source": [
    "df.columns"
   ]
  },
  {
   "cell_type": "code",
   "execution_count": 57,
   "metadata": {},
   "outputs": [
    {
     "data": {
      "text/html": [
       "<div>\n",
       "<style scoped>\n",
       "    .dataframe tbody tr th:only-of-type {\n",
       "        vertical-align: middle;\n",
       "    }\n",
       "\n",
       "    .dataframe tbody tr th {\n",
       "        vertical-align: top;\n",
       "    }\n",
       "\n",
       "    .dataframe thead th {\n",
       "        text-align: right;\n",
       "    }\n",
       "</style>\n",
       "<table border=\"1\" class=\"dataframe\">\n",
       "  <thead>\n",
       "    <tr style=\"text-align: right;\">\n",
       "      <th></th>\n",
       "      <th>edInput</th>\n",
       "      <th>topicName</th>\n",
       "      <th>usName</th>\n",
       "      <th>text</th>\n",
       "    </tr>\n",
       "    <tr>\n",
       "      <th>tweetID</th>\n",
       "      <th></th>\n",
       "      <th></th>\n",
       "      <th></th>\n",
       "      <th></th>\n",
       "    </tr>\n",
       "  </thead>\n",
       "  <tbody>\n",
       "    <tr>\n",
       "      <th>1070970722598707200</th>\n",
       "      <td>1</td>\n",
       "      <td>Fashion</td>\n",
       "      <td>Gentleman’s style</td>\n",
       "      <td>Which one would you choose? 👀 https://t.co/U0s3alfBNp</td>\n",
       "    </tr>\n",
       "    <tr>\n",
       "      <th>1070981773616648193</th>\n",
       "      <td>1</td>\n",
       "      <td>Interesting</td>\n",
       "      <td>Satisfying Slime</td>\n",
       "      <td>How it’s made. 😊 https://t.co/3XjOw4gIkg</td>\n",
       "    </tr>\n",
       "    <tr>\n",
       "      <th>916500037818916866</th>\n",
       "      <td>2</td>\n",
       "      <td>Interesting</td>\n",
       "      <td>Tips &amp; Tricks Ideas ✌</td>\n",
       "      <td>Smile, because it confuses people. Smile, because it’s easier than explaining what is killing you inside. https://t.co/FGlnnRfP5w</td>\n",
       "    </tr>\n",
       "    <tr>\n",
       "      <th>1071135340696625152</th>\n",
       "      <td>1</td>\n",
       "      <td>Art</td>\n",
       "      <td>𝐴𝑟𝑡.</td>\n",
       "      <td>𝐶𝑙𝑎𝑢𝑑𝑒 𝑀𝑜𝑛𝑒𝑡 https://t.co/WdavWJcSyw</td>\n",
       "    </tr>\n",
       "    <tr>\n",
       "      <th>1071141175606829056</th>\n",
       "      <td>1</td>\n",
       "      <td>Animal</td>\n",
       "      <td>Nature is Amazing ☘️</td>\n",
       "      <td>Baby Alpacas are so under appreciated. https://t.co/SDXjKaVscv</td>\n",
       "    </tr>\n",
       "    <tr>\n",
       "      <th>...</th>\n",
       "      <td>...</td>\n",
       "      <td>...</td>\n",
       "      <td>...</td>\n",
       "      <td>...</td>\n",
       "    </tr>\n",
       "    <tr>\n",
       "      <th>1153952965650079744</th>\n",
       "      <td>1</td>\n",
       "      <td>Flowers</td>\n",
       "      <td>BGCI</td>\n",
       "      <td>Apply for a grant to implement plant conservation at your botanic garden today! https://t.co/gj2eDzIWeB https://t.co/z1iJjZPOFn</td>\n",
       "    </tr>\n",
       "    <tr>\n",
       "      <th>1154059414174703617</th>\n",
       "      <td>2</td>\n",
       "      <td>Business</td>\n",
       "      <td>FOOD INSIDER</td>\n",
       "      <td>Are you team Shake Shack or team In-N-Out? https://t.co/3bDmzocr6P</td>\n",
       "    </tr>\n",
       "    <tr>\n",
       "      <th>1154061474383441920</th>\n",
       "      <td>1</td>\n",
       "      <td>Art</td>\n",
       "      <td>Phaidon</td>\n",
       "      <td>How @OlafurEliasson's 'hedonistic' dad helped his art https://t.co/x9tFi65TjW @BBCHARDtalk @TheZeinabBadawi https://t.co/Ocuv6jrVbH</td>\n",
       "    </tr>\n",
       "    <tr>\n",
       "      <th>1154130836217683968</th>\n",
       "      <td>1</td>\n",
       "      <td>Art</td>\n",
       "      <td>Alice Waters</td>\n",
       "      <td>I am delighted that @IfOnly and @Sothebys are offering a special auction lot to cook at my home with @CiaoSamin! Bidding ends Friday and proceeds support the @edibleschoolyrd! \\n\\nhttps://t.co/jmHg5unL2w</td>\n",
       "    </tr>\n",
       "    <tr>\n",
       "      <th>1154108888116940800</th>\n",
       "      <td>1</td>\n",
       "      <td>Cryptocurrency</td>\n",
       "      <td>🍄🌲BenjaminBlunts🌲🍄</td>\n",
       "      <td>btc dominance is now in a downtrend and alts are a poppin.\\n\\ncongratz fam we made it https://t.co/MsPcAPdpAm</td>\n",
       "    </tr>\n",
       "  </tbody>\n",
       "</table>\n",
       "<p>322318 rows × 4 columns</p>\n",
       "</div>"
      ],
      "text/plain": [
       "                     edInput       topicName                 usName  \\\n",
       "tweetID                                                               \n",
       "1070970722598707200        1         Fashion      Gentleman’s style   \n",
       "1070981773616648193        1     Interesting       Satisfying Slime   \n",
       "916500037818916866         2     Interesting  Tips & Tricks Ideas ✌   \n",
       "1071135340696625152        1             Art                   𝐴𝑟𝑡.   \n",
       "1071141175606829056        1          Animal   Nature is Amazing ☘️   \n",
       "...                      ...             ...                    ...   \n",
       "1153952965650079744        1         Flowers                   BGCI   \n",
       "1154059414174703617        2        Business           FOOD INSIDER   \n",
       "1154061474383441920        1             Art                Phaidon   \n",
       "1154130836217683968        1             Art           Alice Waters   \n",
       "1154108888116940800        1  Cryptocurrency     🍄🌲BenjaminBlunts🌲🍄   \n",
       "\n",
       "                                                                                                                                                                                                                            text  \n",
       "tweetID                                                                                                                                                                                                                           \n",
       "1070970722598707200                                                                                                                                                        Which one would you choose? 👀 https://t.co/U0s3alfBNp  \n",
       "1070981773616648193                                                                                                                                                                     How it’s made. 😊 https://t.co/3XjOw4gIkg  \n",
       "916500037818916866                                                                             Smile, because it confuses people. Smile, because it’s easier than explaining what is killing you inside. https://t.co/FGlnnRfP5w  \n",
       "1071135340696625152                                                                                                                                                                         𝐶𝑙𝑎𝑢𝑑𝑒 𝑀𝑜𝑛𝑒𝑡 https://t.co/WdavWJcSyw  \n",
       "1071141175606829056                                                                                                                                               Baby Alpacas are so under appreciated. https://t.co/SDXjKaVscv  \n",
       "...                                                                                                                                                                                                                          ...  \n",
       "1153952965650079744                                                                              Apply for a grant to implement plant conservation at your botanic garden today! https://t.co/gj2eDzIWeB https://t.co/z1iJjZPOFn  \n",
       "1154059414174703617                                                                                                                                           Are you team Shake Shack or team In-N-Out? https://t.co/3bDmzocr6P  \n",
       "1154061474383441920                                                                          How @OlafurEliasson's 'hedonistic' dad helped his art https://t.co/x9tFi65TjW @BBCHARDtalk @TheZeinabBadawi https://t.co/Ocuv6jrVbH  \n",
       "1154130836217683968  I am delighted that @IfOnly and @Sothebys are offering a special auction lot to cook at my home with @CiaoSamin! Bidding ends Friday and proceeds support the @edibleschoolyrd! \\n\\nhttps://t.co/jmHg5unL2w  \n",
       "1154108888116940800                                                                                                btc dominance is now in a downtrend and alts are a poppin.\\n\\ncongratz fam we made it https://t.co/MsPcAPdpAm  \n",
       "\n",
       "[322318 rows x 4 columns]"
      ]
     },
     "execution_count": 57,
     "metadata": {},
     "output_type": "execute_result"
    }
   ],
   "source": [
    "df = df[['edInput', 'topicName', 'usName','text' ]]\n",
    "df"
   ]
  },
  {
   "attachments": {},
   "cell_type": "markdown",
   "metadata": {},
   "source": [
    "* Since we will be clasifying only Business or no business tweets, we need to create a new column which will be :\n",
    "1. 1 if the 'topicName' == Business and 'edInput' == 1 \n",
    "2. And 0 otherwise."
   ]
  },
  {
   "cell_type": "code",
   "execution_count": 66,
   "metadata": {},
   "outputs": [],
   "source": [
    "df = df.copy(deep=True)\n",
    "df.loc[:,'IsBusiness'] = np.where((df['topicName']=='Business') & (df['edInput']==1), 1, 0)"
   ]
  },
  {
   "attachments": {},
   "cell_type": "markdown",
   "metadata": {},
   "source": [
    "* Remiving topicName and edInput columns as we don't need them anymore."
   ]
  },
  {
   "cell_type": "code",
   "execution_count": 71,
   "metadata": {},
   "outputs": [],
   "source": [
    "df = df[[ 'IsBusiness', 'usName', 'text']]"
   ]
  },
  {
   "attachments": {},
   "cell_type": "markdown",
   "metadata": {},
   "source": [
    "* Cheching how balanced our data is:"
   ]
  },
  {
   "cell_type": "code",
   "execution_count": 84,
   "metadata": {},
   "outputs": [
    {
     "data": {
      "image/png": "[encoded data removed]",
      "text/plain": [
       "<Figure size 300x300 with 1 Axes>"
      ]
     },
     "metadata": {},
     "output_type": "display_data"
    }
   ],
   "source": [
    "plt.figure(figsize=(3,3))\n",
    "plt.pie(df['IsBusiness'].value_counts(), labels=['Not Business', 'Business'], autopct='%1.1f%%', startangle=90, colors=['#ED9B9D','#B5E8C0'])\n",
    "plt.title('Business Tweets')\n",
    "plt.show()"
   ]
  },
  {
   "attachments": {},
   "cell_type": "markdown",
   "metadata": {},
   "source": [
    "#### We can clearly see, that the data is not balanced. We will need to balance the data before training the model.\n",
    "Few possible ways to approach:\n",
    "1. __Using the correct metrics for imbalanced data.__ I will not use Accuracy as it will not give us a good results as we can classify all samples as \"Not Business\" and get an accuracy of 94.5%, yet totally failing to catch \"Business\" samples. I'll use F1 score. F1 is a harmonic mean of precision and recall. It is a good metric to use when we have imbalanced data.\n",
    "2. __Oversampling__ - Randomly increasing of the minority class using the same data points. This technic can be pron to overfitting, especially if we oversample too much.  \n",
    "3. __Synthetic Minority Oversampling Technique - SMOTE__ - This technic will create new samples based on the existing ones. It will not overfit as much as the oversampling, but it can be pron to overfitting as well. This generaes \"Similar\" samples, but not the same.\n",
    "3. __Undersampling__ - This will help us to balance the data, but we will lose some of the data randomly truncated. Using this we can lose some crutial information. \n",
    "5. __Using Bagging__ - BalancedBaggingClassifier - sklearn classifier but with additional balancing.\n",
    "6. __Treshhold moving + Grid Search__ - We can try to move the treshhold for the classification and see if we can get better results. For imbalanced data sets default 0.5 treshhold doesn't work well. We can also use Grid Search to find the best treshhold."
   ]
  },
  {
   "attachments": {},
   "cell_type": "markdown",
   "metadata": {},
   "source": [
    "* Before dealing with the imbalanced data:\n",
    "1. Let's clean obvious noise: \n",
    "    1. Scikit-learn has basic buit-in text cleanng regex. \n",
    "    2. And we need to deal with URLs inside all docs.\n",
    "    3. As well as with emojis.\n",
    "    4. And Stopwords.\n",
    "2. Train the model with the default parameters and see what we get to estimate the baseline."
   ]
  },
  {
   "cell_type": "code",
   "execution_count": 216,
   "metadata": {},
   "outputs": [
    {
     "name": "stderr",
     "output_type": "stream",
     "text": [
      "[nltk_data] Downloading package stopwords to\n",
      "[nltk_data]     C:\\Users\\Vasyl\\AppData\\Roaming\\nltk_data...\n",
      "[nltk_data]   Package stopwords is already up-to-date!\n"
     ]
    }
   ],
   "source": [
    "from sklearn.feature_extraction.text import TfidfVectorizer\n",
    "from nltk.corpus import stopwords\n",
    "import nltk\n",
    "nltk.download('stopwords')\n",
    "import re\n",
    "import demoji\n",
    "from unidecode import unidecode\n",
    "import pickle"
   ]
  },
  {
   "cell_type": "code",
   "execution_count": 214,
   "metadata": {},
   "outputs": [],
   "source": [
    "def custom_tokenizer(doc):   \n",
    "    # define stopwords \n",
    "    stops = (stopwords.words('english'))\n",
    "    stops.extend([])    \n",
    "\n",
    "    doc = demoji.replace_with_desc(doc, sep=' ') # replace emojis with text\n",
    "    doc = unidecode(doc) # remove accents\n",
    "    doc = re.sub(r'http\\S+', '', doc) # remove urls\n",
    "    doc = re.sub(r'\\b\\d+\\b','', doc) # remove numbers\n",
    "    doc = doc.lower() # decapitalization\n",
    "    doc = re.findall(r'(?u)\\b\\w\\w+\\b', doc) # standard scikit-learn pattern\n",
    "\n",
    "    tokens = [word for word in doc if word not in stops] # remove stopwords\n",
    "\n",
    "    return tokens\n",
    "\n",
    "# ---------------- For testing ----------------\n",
    "# print(df['text'].iloc[0])\n",
    "# doc = df['text'].iloc[0] + ' 544' + ' Them' + ' Abig' + ' 東日本大震災から8年'\n",
    "# custom_tokenizer(doc)"
   ]
  },
  {
   "cell_type": "code",
   "execution_count": 215,
   "metadata": {},
   "outputs": [
    {
     "name": "stderr",
     "output_type": "stream",
     "text": [
      "d:\\Study 2018 and later\\Mignimind Bootcamp\\Code\\P4-NLP-Tweet-Classification\\.venv\\lib\\site-packages\\sklearn\\feature_extraction\\text.py:528: UserWarning: The parameter 'token_pattern' will not be used since 'tokenizer' is not None'\n",
      "  warnings.warn(\n"
     ]
    },
    {
     "data": {
      "text/html": [
       "<style>#sk-container-id-4 {color: black;background-color: white;}#sk-container-id-4 pre{padding: 0;}#sk-container-id-4 div.sk-toggleable {background-color: white;}#sk-container-id-4 label.sk-toggleable__label {cursor: pointer;display: block;width: 100%;margin-bottom: 0;padding: 0.3em;box-sizing: border-box;text-align: center;}#sk-container-id-4 label.sk-toggleable__label-arrow:before {content: \"▸\";float: left;margin-right: 0.25em;color: #696969;}#sk-container-id-4 label.sk-toggleable__label-arrow:hover:before {color: black;}#sk-container-id-4 div.sk-estimator:hover label.sk-toggleable__label-arrow:before {color: black;}#sk-container-id-4 div.sk-toggleable__content {max-height: 0;max-width: 0;overflow: hidden;text-align: left;background-color: #f0f8ff;}#sk-container-id-4 div.sk-toggleable__content pre {margin: 0.2em;color: black;border-radius: 0.25em;background-color: #f0f8ff;}#sk-container-id-4 input.sk-toggleable__control:checked~div.sk-toggleable__content {max-height: 200px;max-width: 100%;overflow: auto;}#sk-container-id-4 input.sk-toggleable__control:checked~label.sk-toggleable__label-arrow:before {content: \"▾\";}#sk-container-id-4 div.sk-estimator input.sk-toggleable__control:checked~label.sk-toggleable__label {background-color: #d4ebff;}#sk-container-id-4 div.sk-label input.sk-toggleable__control:checked~label.sk-toggleable__label {background-color: #d4ebff;}#sk-container-id-4 input.sk-hidden--visually {border: 0;clip: rect(1px 1px 1px 1px);clip: rect(1px, 1px, 1px, 1px);height: 1px;margin: -1px;overflow: hidden;padding: 0;position: absolute;width: 1px;}#sk-container-id-4 div.sk-estimator {font-family: monospace;background-color: #f0f8ff;border: 1px dotted black;border-radius: 0.25em;box-sizing: border-box;margin-bottom: 0.5em;}#sk-container-id-4 div.sk-estimator:hover {background-color: #d4ebff;}#sk-container-id-4 div.sk-parallel-item::after {content: \"\";width: 100%;border-bottom: 1px solid gray;flex-grow: 1;}#sk-container-id-4 div.sk-label:hover label.sk-toggleable__label {background-color: #d4ebff;}#sk-container-id-4 div.sk-serial::before {content: \"\";position: absolute;border-left: 1px solid gray;box-sizing: border-box;top: 0;bottom: 0;left: 50%;z-index: 0;}#sk-container-id-4 div.sk-serial {display: flex;flex-direction: column;align-items: center;background-color: white;padding-right: 0.2em;padding-left: 0.2em;position: relative;}#sk-container-id-4 div.sk-item {position: relative;z-index: 1;}#sk-container-id-4 div.sk-parallel {display: flex;align-items: stretch;justify-content: center;background-color: white;position: relative;}#sk-container-id-4 div.sk-item::before, #sk-container-id-4 div.sk-parallel-item::before {content: \"\";position: absolute;border-left: 1px solid gray;box-sizing: border-box;top: 0;bottom: 0;left: 50%;z-index: -1;}#sk-container-id-4 div.sk-parallel-item {display: flex;flex-direction: column;z-index: 1;position: relative;background-color: white;}#sk-container-id-4 div.sk-parallel-item:first-child::after {align-self: flex-end;width: 50%;}#sk-container-id-4 div.sk-parallel-item:last-child::after {align-self: flex-start;width: 50%;}#sk-container-id-4 div.sk-parallel-item:only-child::after {width: 0;}#sk-container-id-4 div.sk-dashed-wrapped {border: 1px dashed gray;margin: 0 0.4em 0.5em 0.4em;box-sizing: border-box;padding-bottom: 0.4em;background-color: white;}#sk-container-id-4 div.sk-label label {font-family: monospace;font-weight: bold;display: inline-block;line-height: 1.2em;}#sk-container-id-4 div.sk-label-container {text-align: center;}#sk-container-id-4 div.sk-container {/* jupyter's `normalize.less` sets `[hidden] { display: none; }` but bootstrap.min.css set `[hidden] { display: none !important; }` so we also need the `!important` here to be able to override the default hidden behavior on the sphinx rendered scikit-learn.org. See: https://github.com/scikit-learn/scikit-learn/issues/21755 */display: inline-block !important;position: relative;}#sk-container-id-4 div.sk-text-repr-fallback {display: none;}</style><div id=\"sk-container-id-4\" class=\"sk-top-container\"><div class=\"sk-text-repr-fallback\"><pre>TfidfVectorizer(min_df=3,\n",
       "                tokenizer=&lt;function custom_tokenizer at 0x00000208ABA0B790&gt;)</pre><b>In a Jupyter environment, please rerun this cell to show the HTML representation or trust the notebook. <br />On GitHub, the HTML representation is unable to render, please try loading this page with nbviewer.org.</b></div><div class=\"sk-container\" hidden><div class=\"sk-item\"><div class=\"sk-estimator sk-toggleable\"><input class=\"sk-toggleable__control sk-hidden--visually\" id=\"sk-estimator-id-4\" type=\"checkbox\" checked><label for=\"sk-estimator-id-4\" class=\"sk-toggleable__label sk-toggleable__label-arrow\">TfidfVectorizer</label><div class=\"sk-toggleable__content\"><pre>TfidfVectorizer(min_df=3,\n",
       "                tokenizer=&lt;function custom_tokenizer at 0x00000208ABA0B790&gt;)</pre></div></div></div></div></div>"
      ],
      "text/plain": [
       "TfidfVectorizer(min_df=3,\n",
       "                tokenizer=<function custom_tokenizer at 0x00000208ABA0B790>)"
      ]
     },
     "execution_count": 215,
     "metadata": {},
     "output_type": "execute_result"
    }
   ],
   "source": [
    "vect = TfidfVectorizer(tokenizer=custom_tokenizer, min_df=3)\n",
    "vect.fit(df['text'])\n",
    "\n",
    "# Saving time by saving the vectorizer\n",
    "with open('TfidfVectorizer.pkl', 'wb') as file:\n",
    "    pickle.dump(vect, file)"
   ]
  },
  {
   "cell_type": "code",
   "execution_count": 219,
   "metadata": {},
   "outputs": [],
   "source": [
    "with open('TfidfVectorizer.pkl', 'rb') as file:\n",
    "    vect = pickle.load(file)"
   ]
  },
  {
   "cell_type": "code",
   "execution_count": 230,
   "metadata": {},
   "outputs": [
    {
     "name": "stdout",
     "output_type": "stream",
     "text": [
      "Vocabulary size: 50916\n",
      "\n",
      "Every 10000th word: \n",
      " ['00', 'amaze', 'bagholding', 'booty', 'celebrity', 'conjures', 'decides', 'dt_westcalder', 'extinct', 'functioning', 'hallmarkies', 'igtv', 'johnlegend', 'letnaturesing', 'massed', 'mover', 'october', 'petra', 'puartmuseum', 'retrieve', 'sealed', 'solicit', 'supremacist', 'tonywaldmanvo', 'valiant', 'womensweek']\n",
      "\n",
      "Fisrt 25 words: \n",
      " ['00' '000kg' '000lbs' '000mah' '000s' '000th' '000x' '007_robj' '00am'\n",
      " '00pm' '01empero' '01hodl' '01pm' '07beach' '07pm' '07rubens' '0a'\n",
      " '0pium07' '0x' '0xproject' '1000postcards' '1000s' '1000x' '1000xm3'\n",
      " '100k']\n",
      "\n",
      "Last 25 words: \n",
      " ['zora' 'zorn' 'zorynaodonnell' 'zrx' 'zte' 'zubarev' 'zucchini' 'zuck'\n",
      " 'zucker' 'zuckerberg' 'zukav' 'zulu' 'zumthor' 'zuo' 'zur' 'zurab' 'zuri'\n",
      " 'zurich' 'zuul' 'zuzana' 'zuzudotai' 'zvezda' 'zwirner' 'zzsheyn' 'zzz']\n"
     ]
    }
   ],
   "source": [
    "print(f'Vocabulary size: {len(vect.vocabulary_)}')\n",
    "\n",
    "c = 0\n",
    "to_print = []\n",
    "for i, value in enumerate(vect.get_feature_names_out()):\n",
    "    # print every 2000th key\n",
    "    if c % 2000 == 0:\n",
    "        to_print.append(value)\n",
    "    c += 1\n",
    "print(f'\\nEvery 10000th word: \\n {to_print}')\n",
    "print(f'\\nFisrt 25 words: \\n {vect.get_feature_names_out()[:25]}')\n",
    "print(f'\\nLast 25 words: \\n {vect.get_feature_names_out()[-25:]}')\n"
   ]
  }
 ],
 "metadata": {
  "kernelspec": {
   "display_name": ".venv",
   "language": "python",
   "name": "python3"
  },
  "language_info": {
   "codemirror_mode": {
    "name": "ipython",
    "version": 3
   },
   "file_extension": ".py",
   "mimetype": "text/x-python",
   "name": "python",
   "nbconvert_exporter": "python",
   "pygments_lexer": "ipython3",
   "version": "3.9.2"
  },
  "orig_nbformat": 4,
  "vscode": {
   "interpreter": {
    "hash": "9d18874cd3773cfd573a514287f61a1082a06a599e2b06271f81ffa5d73d1385"
   }
  }
 },
 "nbformat": 4,
 "nbformat_minor": 2
}
